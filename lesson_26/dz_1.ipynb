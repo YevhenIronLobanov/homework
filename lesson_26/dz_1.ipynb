{
 "cells": [
  {
   "cell_type": "markdown",
   "id": "8c893d4f",
   "metadata": {},
   "source": [
    "### *_Умова задачі_*"
   ]
  },
  {
   "cell_type": "markdown",
   "id": "4586e919",
   "metadata": {},
   "source": [
    "*Ймовірність того, що телевізор витримає гарантій-ний\n",
    "термін роботи, дорівнює 0,9 для всіх телевізорів, які обслуговує\n",
    "гарантійна майстерня. Оцінити ймовірність того, що число телевізорів,\n",
    "які витримають гарантійний термін роботи, буде в межах [85;95].*\n"
   ]
  },
  {
   "cell_type": "markdown",
   "id": "8023b674",
   "metadata": {},
   "source": [
    "### *_Опис рішення_*"
   ]
  },
  {
   "cell_type": "markdown",
   "id": "074bc5f0",
   "metadata": {},
   "source": [
    "1. Розраховуємо математичне очікування, а саме загальну кількість телевізорів, що мають витримати грарантійний термін роботи, а також розраховуємо дисперсію і стандартне відхилення.\n",
    "2. Визначаємо  ε, що характеризує вибірку, а саме визначає допустиму різницю між нашою змінною Х та математичним очікуванням.\n",
    "3. За допомогою нерівності Чебишева розраховуємо ймовірність того, що число телевізорів, які витримають гарантійний термін роботи, буде в межах [85;95]."
   ]
  },
  {
   "cell_type": "markdown",
   "id": "e44f1fe8",
   "metadata": {},
   "source": [
    "### *_Рішення_*"
   ]
  },
  {
   "cell_type": "code",
   "execution_count": 2,
   "id": "1e430f71",
   "metadata": {},
   "outputs": [],
   "source": [
    "from math import sqrt"
   ]
  },
  {
   "cell_type": "code",
   "execution_count": 6,
   "id": "bb566a87",
   "metadata": {},
   "outputs": [],
   "source": [
    "X_j = 95\n",
    "X_i = 90\n",
    "n = 100\n",
    "p = 0.9\n",
    "q = 0.1"
   ]
  },
  {
   "cell_type": "code",
   "execution_count": 7,
   "id": "a67dede0",
   "metadata": {},
   "outputs": [
    {
     "name": "stdout",
     "output_type": "stream",
     "text": [
      "Математичне очікування 90.0\n",
      "Стандартне відхилення 3.0\n"
     ]
    }
   ],
   "source": [
    "M_X = n*p\n",
    "D_X =n*p*(q)\n",
    "σ_x = sqrt(D_X)\n",
    "print('Математичне очікування', M_X)\n",
    "print('Стандартне відхилення', σ_x)"
   ]
  },
  {
   "cell_type": "code",
   "execution_count": 9,
   "id": "c591f7b4",
   "metadata": {},
   "outputs": [],
   "source": [
    "ε = X_j - M_X"
   ]
  },
  {
   "cell_type": "markdown",
   "id": "57ab3003",
   "metadata": {},
   "source": [
    "P(|x-M(X)|≤ ε) ≥ 1 - DX/ε**2 "
   ]
  },
  {
   "cell_type": "code",
   "execution_count": 10,
   "id": "b4afa809",
   "metadata": {},
   "outputs": [
    {
     "data": {
      "text/plain": [
       "0.64"
      ]
     },
     "execution_count": 10,
     "metadata": {},
     "output_type": "execute_result"
    }
   ],
   "source": [
    "P_=1-D_X/ε**2\n",
    "P_"
   ]
  },
  {
   "cell_type": "markdown",
   "id": "517ece4c",
   "metadata": {},
   "source": [
    "#### _Відповідь: Ймовірність того ,що  що число телевізорів, які витримають гарантійний термін роботи, буде в межах [85;95] становить 64%._"
   ]
  },
  {
   "cell_type": "code",
   "execution_count": null,
   "id": "7fd6e8d3",
   "metadata": {},
   "outputs": [],
   "source": []
  }
 ],
 "metadata": {
  "kernelspec": {
   "display_name": "Python 3 (ipykernel)",
   "language": "python",
   "name": "python3"
  },
  "language_info": {
   "codemirror_mode": {
    "name": "ipython",
    "version": 3
   },
   "file_extension": ".py",
   "mimetype": "text/x-python",
   "name": "python",
   "nbconvert_exporter": "python",
   "pygments_lexer": "ipython3",
   "version": "3.10.11"
  }
 },
 "nbformat": 4,
 "nbformat_minor": 5
}
