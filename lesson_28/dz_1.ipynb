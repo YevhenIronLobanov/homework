{
 "cells": [
  {
   "cell_type": "markdown",
   "id": "fa061f68",
   "metadata": {},
   "source": [
    "### *_Умова задачі_*"
   ]
  },
  {
   "cell_type": "markdown",
   "id": "e0b5f835",
   "metadata": {},
   "source": [
    "З генеральної сукупності розподіленої за нормальним законом, отримано вибірку об'ємом n=20.\n",
    "| X_i | 1 | 2 | 4 | 6 | 7 |\n",
    "|---- |---|---|---|---|---|\n",
    "| n_i | 2 | 3 | 10| 3 | 2 |  \n",
    "\n",
    "Знайти з надійністю γ=0,95 інтервальну оцінку для  середнього квадратичного відхилення σ генеральної сукупності.\n"
   ]
  },
  {
   "cell_type": "markdown",
   "id": "6d6ba2c2",
   "metadata": {},
   "source": [
    "### *_Опис рішення_*"
   ]
  },
  {
   "cell_type": "markdown",
   "id": "b444b98e",
   "metadata": {},
   "source": [
    "1. Розраховуємо середнє вибіркове значення.\n",
    "2. Розраховуємо виправленне середньоквадратичне відхилення.\n",
    "3. Користуючись  таблицею значень функції Лапласа визначаємо q.\n",
    "4. Знаходимо інтервальну оцінку для середнього квадратичного відхилення σ.\n",
    "    Оскількі q<1 застосовуємо формулу S*(1-q)<σ<S*(1-q)"
   ]
  },
  {
   "cell_type": "markdown",
   "id": "e80cdc03",
   "metadata": {},
   "source": [
    "### *_Рішення_*"
   ]
  },
  {
   "cell_type": "code",
   "execution_count": 19,
   "id": "d4b08b60",
   "metadata": {},
   "outputs": [],
   "source": [
    "from math import sqrt, pow"
   ]
  },
  {
   "cell_type": "code",
   "execution_count": 20,
   "id": "a225b4f2",
   "metadata": {},
   "outputs": [],
   "source": [
    "def mid(x_i, n_i):\n",
    "    x_ = 0\n",
    "    for i, u in zip(x_i, n_i):\n",
    "        x_ += i*u\n",
    "    x_ = x_/sum(n_i)\n",
    "    return x_"
   ]
  },
  {
   "cell_type": "code",
   "execution_count": 21,
   "id": "acbedf04",
   "metadata": {},
   "outputs": [],
   "source": [
    "def send(x_i, n_i, x_):\n",
    "    s = 0\n",
    "    for i, u in zip(x_i, n_i):\n",
    "        s += pow((i - x_), 2) * u\n",
    "    s = sqrt(s / (sum(n_i) - 1))\n",
    "    return s"
   ]
  },
  {
   "cell_type": "code",
   "execution_count": 25,
   "id": "29ad2c1a",
   "metadata": {},
   "outputs": [],
   "source": [
    "x_i = [1, 2, 4, 6, 7]\n",
    "n_i = [2, 3, 10, 3, 2]\n",
    "X_ = mid(x_i, n_i)\n",
    "S = send (x_i, n_i, X_)\n",
    "q = 0.37\n"
   ]
  },
  {
   "cell_type": "code",
   "execution_count": 26,
   "id": "ce1ed782",
   "metadata": {
    "scrolled": true
   },
   "outputs": [
    {
     "name": "stdout",
     "output_type": "stream",
     "text": [
      "Інтервальна оцінка: 1.12 <  σ < 2.43\n"
     ]
    }
   ],
   "source": [
    "print(f'Інтервальна оцінка: {round(S*(1-q), 2)} <  σ < {round(S*(1+q), 2)}')"
   ]
  }
 ],
 "metadata": {
  "kernelspec": {
   "display_name": "Python 3 (ipykernel)",
   "language": "python",
   "name": "python3"
  },
  "language_info": {
   "codemirror_mode": {
    "name": "ipython",
    "version": 3
   },
   "file_extension": ".py",
   "mimetype": "text/x-python",
   "name": "python",
   "nbconvert_exporter": "python",
   "pygments_lexer": "ipython3",
   "version": "3.10.11"
  }
 },
 "nbformat": 4,
 "nbformat_minor": 5
}
