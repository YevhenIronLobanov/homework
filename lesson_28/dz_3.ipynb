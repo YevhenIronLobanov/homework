{
 "cells": [
  {
   "cell_type": "markdown",
   "id": "5d904a17",
   "metadata": {},
   "source": [
    "### *_Умова задачі_*"
   ]
  },
  {
   "cell_type": "markdown",
   "id": "6dd8644a",
   "metadata": {},
   "source": [
    "*Знайти мінімальний об’єм вибірки, при якому з надійністю γ = 0.99 точність оцінки математичного сподівання а нормально розподіленої ознаки дорівнює δ=0.6, якщо середнє квадратичне відхилення σ=3*"
   ]
  },
  {
   "cell_type": "markdown",
   "id": "d77f3c72",
   "metadata": {},
   "source": [
    "### *_Опис рішення_*"
   ]
  },
  {
   "cell_type": "markdown",
   "id": "a6be7fde",
   "metadata": {},
   "source": [
    "1. Користуючись  таблицею значень функції Лапласа Ф(х) визначаємо t.  \n",
    "Ф_t= γ/2 = 0.495  \n",
    "t = 2.58\n",
    "2. На основі формули визначення точності оцінки δ=t*σ/sqrt(n) розраховуємо об'єм вибірки."
   ]
  },
  {
   "cell_type": "markdown",
   "id": "89a4293a",
   "metadata": {},
   "source": [
    "### *_Рішення_*"
   ]
  },
  {
   "cell_type": "code",
   "execution_count": 3,
   "id": "4ce7416a",
   "metadata": {},
   "outputs": [],
   "source": [
    "def sample (t,δ, σ):\n",
    "    n = pow(t,2)*pow(σ,2)/pow(δ,2)\n",
    "    return n\n"
   ]
  },
  {
   "cell_type": "code",
   "execution_count": 4,
   "id": "932bf967",
   "metadata": {},
   "outputs": [
    {
     "name": "stdout",
     "output_type": "stream",
     "text": [
      "Мінімальний об'єм вибірки: 166.0\n"
     ]
    }
   ],
   "source": [
    "result = sample(2.58, 0.6, 3)\n",
    "print(\"Мінімальний об'єм вибірки:\", round(result,0))"
   ]
  }
 ],
 "metadata": {
  "kernelspec": {
   "display_name": "Python 3 (ipykernel)",
   "language": "python",
   "name": "python3"
  },
  "language_info": {
   "codemirror_mode": {
    "name": "ipython",
    "version": 3
   },
   "file_extension": ".py",
   "mimetype": "text/x-python",
   "name": "python",
   "nbconvert_exporter": "python",
   "pygments_lexer": "ipython3",
   "version": "3.10.11"
  }
 },
 "nbformat": 4,
 "nbformat_minor": 5
}
