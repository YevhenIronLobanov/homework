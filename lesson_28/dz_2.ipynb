{
 "cells": [
  {
   "cell_type": "markdown",
   "id": "5f1dc403",
   "metadata": {},
   "source": [
    "### *_Умова задачі_*"
   ]
  },
  {
   "cell_type": "markdown",
   "id": "e488a530",
   "metadata": {},
   "source": [
    "*Знайти з надійністю γ=0,95 інтервальну оцінку для ймовірності настання події А в кожному з n = 100 незалежних повторних \n",
    "випробувань, якщо подія відбулдася m=40 раз.*"
   ]
  },
  {
   "cell_type": "markdown",
   "id": "f75507f0",
   "metadata": {},
   "source": [
    "### *_Опис рішення_*"
   ]
  },
  {
   "cell_type": "markdown",
   "id": "750e3462",
   "metadata": {},
   "source": [
    "1. Користуючись  таблицею значень функції Лапласа Ф(х) визначаємо t.\n",
    "2. Оскількі число випробувань за умовами не велике n = 100 використовуємо формулу:   \n",
    "    p_1< p < p_2   \n",
    "    p_1 = (1/(pow(t,2) + n))*(m + (pow(t,2)/2) - t*sqrt(m*(n-m)/n + pow(t,2)/4)  \n",
    "    p_2 = (1/(pow(t,2) + n))*(m + (pow(t,2)/2) + t*sqrt(m*(n-m)/n + pow(t,2)/4))\n"
   ]
  },
  {
   "cell_type": "markdown",
   "id": "fd095c44",
   "metadata": {},
   "source": [
    "### *_Рішення_*"
   ]
  },
  {
   "cell_type": "code",
   "execution_count": 9,
   "id": "b7b22464",
   "metadata": {},
   "outputs": [],
   "source": [
    "n = 100\n",
    "m =40\n",
    "γ = 0.95\n",
    "Ф_t= 0.475\n",
    "t =1.96"
   ]
  },
  {
   "cell_type": "code",
   "execution_count": 17,
   "id": "16ae0196",
   "metadata": {},
   "outputs": [],
   "source": [
    "from math import sqrt, pow\n",
    "p_1 = (1/(pow(t,2) + n))*(m + (pow(t,2)/2) - t*sqrt(m*(n-m)/n + pow(t,2)/4))\n",
    "p_2 = (1/(pow(t,2) + n))*(m + (pow(t,2)/2) + t*sqrt(m*(n-m)/n + pow(t,2)/4))\n",
    "\n"
   ]
  },
  {
   "cell_type": "code",
   "execution_count": 18,
   "id": "ca1ec2b5",
   "metadata": {},
   "outputs": [
    {
     "name": "stdout",
     "output_type": "stream",
     "text": [
      "Інтервальна оцінка: 0.31 <  p < 0.5\n"
     ]
    }
   ],
   "source": [
    "print(f'Інтервальна оцінка: {round(p_1, 2)} <  p < {round(p_2, 2)}')"
   ]
  }
 ],
 "metadata": {
  "kernelspec": {
   "display_name": "Python 3 (ipykernel)",
   "language": "python",
   "name": "python3"
  },
  "language_info": {
   "codemirror_mode": {
    "name": "ipython",
    "version": 3
   },
   "file_extension": ".py",
   "mimetype": "text/x-python",
   "name": "python",
   "nbconvert_exporter": "python",
   "pygments_lexer": "ipython3",
   "version": "3.10.11"
  }
 },
 "nbformat": 4,
 "nbformat_minor": 5
}
