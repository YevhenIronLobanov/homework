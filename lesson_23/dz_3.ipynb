{
 "cells": [
  {
   "cell_type": "markdown",
   "id": "34cfbb35",
   "metadata": {},
   "source": [
    "### *_Умова задачі_* "
   ]
  },
  {
   "cell_type": "markdown",
   "id": "b37e72f4",
   "metadata": {},
   "source": [
    "*Два верстати-автомати виготовляють однакові вироби, які\n",
    "попадають на загальний конвеєр. Продуктивність першого автомата в два\n",
    "раза біль ніж продуктивність другого. Перший верстат-автомат виготовляє\n",
    "60 % виробів вищого гатунку, а другий - 84 %.\n",
    "а) Знайти ймовірність того, що навмання взятий з конвеєра виріб виш\n",
    "ґатунку.\n",
    "б) Навмання взятий з конвеєра виріб має вищий ґатунок.\n",
    "Знайти ймовірність того, що він виготовлений на першому верстаті.*"
   ]
  },
  {
   "cell_type": "markdown",
   "id": "8d820ece",
   "metadata": {},
   "source": [
    "### *_Опис рішення_*\n",
    "\n",
    "1. Оскільки продуктивність першого автомата в два раза більше ніж другого, продуктивність:\n",
    "    * першого автомата - 2/3;\n",
    "    * другого автомата - 1/3.\n",
    "2. Визначаємо ймовірність взяття виробу вищого гатунку з першого автомата і з другого автомата.\n",
    "3. Отримані ймовірності додаємо, в результаті чого отримаємо ймовірність того, що перший взятий виріб з конвеєру буде вищого гатунку.\n",
    "4. Оскількм перший автома виготовляє 60% (0.6) виробів вищого гатунку, а ймовірність того, що перший взятий виріб з конвеєру буде вищого гатунку порахована в пункті 3, за допмогою теорії умовної ймовірності визначаємо ймовірність того, що виріб вищого гатунку взятий з конвеєра саме з першого автомата.  "
   ]
  },
  {
   "cell_type": "markdown",
   "id": "fd594417",
   "metadata": {},
   "source": [
    "### *_Рішення_* А"
   ]
  },
  {
   "cell_type": "code",
   "execution_count": 31,
   "id": "358e0b6e",
   "metadata": {},
   "outputs": [],
   "source": [
    "def add_opp_theorem (*args):\n",
    "    probabilitty=args\n",
    "    probabilities_all=sum(probabilitty)\n",
    "    return probabilities_all"
   ]
  },
  {
   "cell_type": "code",
   "execution_count": 32,
   "id": "1737f560",
   "metadata": {},
   "outputs": [],
   "source": [
    "def mult_theorem (*args):\n",
    "    probability=1\n",
    "    for i in args:\n",
    "        probability *=i\n",
    "    return probability"
   ]
  },
  {
   "cell_type": "code",
   "execution_count": 33,
   "id": "491a4f65",
   "metadata": {},
   "outputs": [],
   "source": [
    "avtomat_1 = 2/3\n",
    "avtomat_2 = 1/3\n",
    "higher_grade_1 = 0.6\n",
    "higher_grade_2 = 0.84\n",
    "\n",
    "probability_1 = mult_theorem(avtomat_1, higher_grade_1)\n",
    "probability_2 = mult_theorem(avtomat_2, higher_grade_2)\n"
   ]
  },
  {
   "cell_type": "code",
   "execution_count": 34,
   "id": "6b11ccda",
   "metadata": {},
   "outputs": [
    {
     "name": "stdout",
     "output_type": "stream",
     "text": [
      "Взятий виріб вищого гатунку: 0.6799999999999999\n"
     ]
    }
   ],
   "source": [
    "result = add_opp_theorem (probability_1, probability_2)\n",
    "print ('Взятий виріб вищого гатунку:', result)"
   ]
  },
  {
   "cell_type": "markdown",
   "id": "a5945ef8",
   "metadata": {},
   "source": [
    "### *_Рішення_* B"
   ]
  },
  {
   "cell_type": "code",
   "execution_count": 35,
   "id": "cc929b62",
   "metadata": {},
   "outputs": [
    {
     "name": "stdout",
     "output_type": "stream",
     "text": [
      "Виріб вищого гатунку взятий з автомата 1: 0.5882352941176471\n"
     ]
    }
   ],
   "source": [
    "result_B = probability_1/result\n",
    "print ('Виріб вищого гатунку взятий з автомата 1:', result_B)"
   ]
  }
 ],
 "metadata": {
  "kernelspec": {
   "display_name": "Python 3 (ipykernel)",
   "language": "python",
   "name": "python3"
  },
  "language_info": {
   "codemirror_mode": {
    "name": "ipython",
    "version": 3
   },
   "file_extension": ".py",
   "mimetype": "text/x-python",
   "name": "python",
   "nbconvert_exporter": "python",
   "pygments_lexer": "ipython3",
   "version": "3.10.11"
  }
 },
 "nbformat": 4,
 "nbformat_minor": 5
}
