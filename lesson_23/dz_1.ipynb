{
 "cells": [
  {
   "cell_type": "markdown",
   "id": "aa5ae8d0",
   "metadata": {},
   "source": [
    "### *_Умова задачі_*"
   ]
  },
  {
   "cell_type": "markdown",
   "id": "3a7d5a24",
   "metadata": {},
   "source": [
    "*Прилад містить 7 елементів, з яких три зношені. При\n",
    "включенні приладу випадковим чином включаються три елементи. Знайти\n",
    "ймовірність того, що при цьому виявляться включеними два незношені\n",
    "елементи*.\n"
   ]
  },
  {
   "cell_type": "markdown",
   "id": "65eb219d",
   "metadata": {},
   "source": [
    "### *_Опис рішення_*"
   ]
  },
  {
   "cell_type": "markdown",
   "id": "b128beb9",
   "metadata": {},
   "source": [
    "1. Визначаємо ймовірність настання незалежних подій. А саме, включення:\n",
    "    * першого незношеного елемента = 4/7;\n",
    "    * другого незншеного елемента - 3/6;\n",
    "    * третього зношеного елемента - 3/5.\n",
    "2. При розрахунку ймовірності включення двох незношених елементів і одного зношеного, враховуємо кількість можливих комбінацій включення 2 незнонешених елементів з  трьох включених. Кількість таких комбінацій дорівнює = 3.\n",
    "3. Використовуючи функцію теореми множення розраховуємо ймовірність включення двох незношених елементів."
   ]
  },
  {
   "cell_type": "markdown",
   "id": "636af352",
   "metadata": {},
   "source": [
    "### *_Рішення_*"
   ]
  },
  {
   "cell_type": "code",
   "execution_count": 1,
   "id": "68bd4f84",
   "metadata": {},
   "outputs": [],
   "source": [
    "def mult_theorem (**kwargs):\n",
    "    probability=1\n",
    "    for i in kwargs.values():\n",
    "        probability *=i\n",
    "    return probability"
   ]
  },
  {
   "cell_type": "code",
   "execution_count": 3,
   "id": "3f3d4b0c",
   "metadata": {},
   "outputs": [
    {
     "name": "stdout",
     "output_type": "stream",
     "text": [
      "Ймовірність включення двох незношених елементів: 0.5142857142857142\n"
     ]
    }
   ],
   "source": [
    "result = mult_theorem (event_A = 4/7, event_B = 3/6, event_C = 3/5, numb_combinations = 3)\n",
    "print ('Ймовірність включення двох незношених елементів:', result)"
   ]
  }
 ],
 "metadata": {
  "kernelspec": {
   "display_name": "Python 3 (ipykernel)",
   "language": "python",
   "name": "python3"
  },
  "language_info": {
   "codemirror_mode": {
    "name": "ipython",
    "version": 3
   },
   "file_extension": ".py",
   "mimetype": "text/x-python",
   "name": "python",
   "nbconvert_exporter": "python",
   "pygments_lexer": "ipython3",
   "version": "3.10.11"
  }
 },
 "nbformat": 4,
 "nbformat_minor": 5
}
