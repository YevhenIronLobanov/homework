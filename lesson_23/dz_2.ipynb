{
 "cells": [
  {
   "cell_type": "markdown",
   "id": "71553d72",
   "metadata": {},
   "source": [
    "### *_Умова задачі_* "
   ]
  },
  {
   "cell_type": "markdown",
   "id": "1c8d4b8e",
   "metadata": {},
   "source": [
    "*Для сигналізації про аварію встановлено два незалежно\n",
    "працюючих сигналізатори. Ймовірність того, що при аварії спрацює\n",
    "перший сигналізатор дорівнює 0,95, ця ймовірність для другого\n",
    "сигналізатора дорівнює 0,9. Знайти ймовірність того, що при аварії\n",
    "спрацює: а) хоча б один сигналізатор; б) тільки один сигналізатор.*"
   ]
  },
  {
   "cell_type": "markdown",
   "id": "792e9f59",
   "metadata": {},
   "source": [
    "### *_Опис рішення_* А"
   ]
  },
  {
   "cell_type": "markdown",
   "id": "a169a976",
   "metadata": {},
   "source": [
    "1. Використовуючи функцію теореми ймовірності протилежної події і теорему множення визначаємо ймовірність того, що жоден сигналізатор не спрацює.\n",
    "2. Використовуючи функцію теореми ймовірності протилежної дії визначаємо ймовірність того, що спрацює хоча б один сигналізатор."
   ]
  },
  {
   "cell_type": "markdown",
   "id": "3fd3281c",
   "metadata": {},
   "source": [
    "### *_Опис рішення_* B"
   ]
  },
  {
   "cell_type": "markdown",
   "id": "59fc78db",
   "metadata": {},
   "source": [
    "1. Визначаємо ймовірність того, що:  \n",
    "    1.1. спрацює перший сигналізатор і не спрацює другий;  \n",
    "    1.2. спрацює другий сигналізатор і не спрацює перший.\n",
    "2. Використовуючи теорему додавання ймовірностей двох несумісних подій визначимо ймовірність спрацювання тільки одного сигналізатора. \n"
   ]
  },
  {
   "cell_type": "markdown",
   "id": "2ca41633",
   "metadata": {},
   "source": [
    "### *_Рішення_* А"
   ]
  },
  {
   "cell_type": "code",
   "execution_count": 28,
   "id": "e9835a3b",
   "metadata": {},
   "outputs": [],
   "source": [
    "def add_opp_theorem (*args):\n",
    "    probabilitty=args\n",
    "    probabilities_all=sum(probabilitty)\n",
    "    return probabilities_all\n",
    "    "
   ]
  },
  {
   "cell_type": "code",
   "execution_count": 27,
   "id": "028d5281",
   "metadata": {},
   "outputs": [],
   "source": [
    "def converse_theorem (*args):\n",
    "    probabilitty=args\n",
    "    probabilities=sum(probabilitty)\n",
    "    converse=1-probabilities\n",
    "    return converse\n",
    "    "
   ]
  },
  {
   "cell_type": "code",
   "execution_count": 15,
   "id": "db6b3c48",
   "metadata": {},
   "outputs": [],
   "source": [
    "def mult_theorem (*args):\n",
    "    probability=1\n",
    "    for i in args:\n",
    "        probability *=i\n",
    "    return probability"
   ]
  },
  {
   "cell_type": "code",
   "execution_count": 16,
   "id": "7d0580d9",
   "metadata": {},
   "outputs": [],
   "source": [
    "event_A = 0.95\n",
    "event_B = 0.9"
   ]
  },
  {
   "cell_type": "code",
   "execution_count": 17,
   "id": "ea6abe88",
   "metadata": {},
   "outputs": [],
   "source": [
    "converse_A = converse_theorem (event_A)\n",
    "converse_B = converse_theorem (event_B)"
   ]
  },
  {
   "cell_type": "code",
   "execution_count": 18,
   "id": "c6065bb9",
   "metadata": {},
   "outputs": [],
   "source": [
    "result = mult_theorem(converse_A, converse_B)"
   ]
  },
  {
   "cell_type": "code",
   "execution_count": 19,
   "id": "e5896de3",
   "metadata": {},
   "outputs": [
    {
     "name": "stdout",
     "output_type": "stream",
     "text": [
      "Спрацює хоча б один сигналізатор: 0.995\n"
     ]
    }
   ],
   "source": [
    "final_result = converse_theorem(result)\n",
    "print ('Спрацює хоча б один сигналізатор:', final_result)"
   ]
  },
  {
   "cell_type": "markdown",
   "id": "2b293494",
   "metadata": {},
   "source": [
    "### *_Рішення_* B"
   ]
  },
  {
   "cell_type": "code",
   "execution_count": 20,
   "id": "62c39416",
   "metadata": {},
   "outputs": [],
   "source": [
    "signal_A = event_A*converse_B\n",
    "signal_B = event_B*converse_A\n"
   ]
  },
  {
   "cell_type": "code",
   "execution_count": 30,
   "id": "1a3f71f5",
   "metadata": {},
   "outputs": [
    {
     "name": "stdout",
     "output_type": "stream",
     "text": [
      "Спрацює тільки один сигналізатор: 0.14\n"
     ]
    }
   ],
   "source": [
    "final_result_B = add_opp_theorem (signal_A, signal_B)\n",
    "print('Спрацює тільки один сигналізатор:', final_result_B)"
   ]
  }
 ],
 "metadata": {
  "kernelspec": {
   "display_name": "Python 3 (ipykernel)",
   "language": "python",
   "name": "python3"
  },
  "language_info": {
   "codemirror_mode": {
    "name": "ipython",
    "version": 3
   },
   "file_extension": ".py",
   "mimetype": "text/x-python",
   "name": "python",
   "nbconvert_exporter": "python",
   "pygments_lexer": "ipython3",
   "version": "3.10.11"
  }
 },
 "nbformat": 4,
 "nbformat_minor": 5
}
