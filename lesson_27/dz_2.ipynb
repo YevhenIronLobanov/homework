{
 "cells": [
  {
   "cell_type": "markdown",
   "id": "b87cf1aa",
   "metadata": {},
   "source": [
    "### *_Умова задачі_*"
   ]
  },
  {
   "cell_type": "markdown",
   "id": "5eb096c3",
   "metadata": {},
   "source": [
    "*У рибальському містечку 99,99% чоловіків хоча б раз в житті були на рибалці. Проводять соціологічні дослідження серед 10000 навмання вибраних чоловіків. Визначити дисперсію D (X) і середнє квадратичне відхилення S (Х) випадкової величини Х — числа чоловіків, які жодного разу не були на рибалці.*"
   ]
  },
  {
   "cell_type": "markdown",
   "id": "355bd393",
   "metadata": {},
   "source": [
    "### *_Опис рішення_*"
   ]
  },
  {
   "cell_type": "markdown",
   "id": "5add657f",
   "metadata": {},
   "source": [
    "Умови задачі відповідають закону Пуассон оскільки кількість опитаних (n = 10000) велика, ймовірність тих хто не був на рибалці (p = 0.0001) дуже мала і наближена до нуля, а також a = np < 10. "
   ]
  },
  {
   "cell_type": "markdown",
   "id": "37b33582",
   "metadata": {},
   "source": [
    "### *_Рішення_*"
   ]
  },
  {
   "cell_type": "code",
   "execution_count": 5,
   "id": "224600db",
   "metadata": {},
   "outputs": [],
   "source": [
    "from math import sqrt"
   ]
  },
  {
   "cell_type": "code",
   "execution_count": 6,
   "id": "ecaf8bea",
   "metadata": {},
   "outputs": [],
   "source": [
    "n = 10000\n",
    "p = 0.0001"
   ]
  },
  {
   "cell_type": "code",
   "execution_count": 10,
   "id": "bc4227d0",
   "metadata": {},
   "outputs": [],
   "source": [
    "D_x = M_x = n*p\n"
   ]
  },
  {
   "cell_type": "code",
   "execution_count": 12,
   "id": "c2e20965",
   "metadata": {},
   "outputs": [],
   "source": [
    "S_x = σ_x = sqrt(D_x)"
   ]
  },
  {
   "cell_type": "code",
   "execution_count": 13,
   "id": "e44813fe",
   "metadata": {},
   "outputs": [
    {
     "name": "stdout",
     "output_type": "stream",
     "text": [
      "Дисперсія D (X): 1.0\n",
      "Cереднє квадратичне відхилення S (Х): 1.0\n"
     ]
    }
   ],
   "source": [
    "print ('Дисперсія D (X):', round (D_x, 3))\n",
    "print ('Cереднє квадратичне відхилення S (Х):', round (S_x, 3))"
   ]
  },
  {
   "cell_type": "code",
   "execution_count": null,
   "id": "72143467",
   "metadata": {},
   "outputs": [],
   "source": []
  }
 ],
 "metadata": {
  "kernelspec": {
   "display_name": "Python 3 (ipykernel)",
   "language": "python",
   "name": "python3"
  },
  "language_info": {
   "codemirror_mode": {
    "name": "ipython",
    "version": 3
   },
   "file_extension": ".py",
   "mimetype": "text/x-python",
   "name": "python",
   "nbconvert_exporter": "python",
   "pygments_lexer": "ipython3",
   "version": "3.10.11"
  }
 },
 "nbformat": 4,
 "nbformat_minor": 5
}
