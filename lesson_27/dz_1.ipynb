{
 "cells": [
  {
   "cell_type": "markdown",
   "id": "2b8dfcc8",
   "metadata": {},
   "source": [
    "### *_Умова задачі_*"
   ]
  },
  {
   "cell_type": "markdown",
   "id": "4d4d6540",
   "metadata": {},
   "source": [
    "*Мікропроцесор має 10000 транзисторів, які працюють незалежно один від одного. Імовірність того, що транзистор вийде із ладу під час роботи приладу, є величиною малоймовірною і становить 0,0007. Визначити математичне сподівання М (Х) і середнє квадратичне відхилення S (Х) випадкової величини Х — числа транзисторів, що вийдуть із ладу під час роботи мікропроцесора.*"
   ]
  },
  {
   "cell_type": "markdown",
   "id": "ce4318d8",
   "metadata": {},
   "source": [
    "### *_Опис рішення_*"
   ]
  },
  {
   "cell_type": "markdown",
   "id": "56603902",
   "metadata": {},
   "source": [
    "Відповідно до умов задачі кількість випробуваннь (n = 10000) велика, ймовірність (p = 0.0007) дуже мала і наближена до нуля, \n",
    "а також  a = np < 10. Таким чином ми маємо пуасонівський розподіл ймовірностей і проводимо наші розрахунки відповідно до закону Пуассона."
   ]
  },
  {
   "cell_type": "markdown",
   "id": "13007cec",
   "metadata": {},
   "source": [
    "### *_Рішення_*"
   ]
  },
  {
   "cell_type": "code",
   "execution_count": 4,
   "id": "0cd9a36e",
   "metadata": {},
   "outputs": [],
   "source": [
    "from math import sqrt"
   ]
  },
  {
   "cell_type": "code",
   "execution_count": 5,
   "id": "0ccdce41",
   "metadata": {},
   "outputs": [],
   "source": [
    "n = 10000\n",
    "p = 0.0007"
   ]
  },
  {
   "cell_type": "code",
   "execution_count": 12,
   "id": "29a933c6",
   "metadata": {},
   "outputs": [],
   "source": [
    "M_x = n*p"
   ]
  },
  {
   "cell_type": "code",
   "execution_count": 7,
   "id": "aafc2dca",
   "metadata": {},
   "outputs": [],
   "source": [
    "D_x = M_x"
   ]
  },
  {
   "cell_type": "code",
   "execution_count": 13,
   "id": "08732396",
   "metadata": {},
   "outputs": [],
   "source": [
    "S_x = σ_x = sqrt(D_x)"
   ]
  },
  {
   "cell_type": "code",
   "execution_count": 14,
   "id": "73ece92a",
   "metadata": {},
   "outputs": [
    {
     "name": "stdout",
     "output_type": "stream",
     "text": [
      "Математичне сподівання М (Х): 7.0\n",
      "Cереднє квадратичне відхилення S (Х): 2.646\n"
     ]
    }
   ],
   "source": [
    "print ('Математичне сподівання М (Х):', round(M_x, 3))\n",
    "print ('Cереднє квадратичне відхилення S (Х):', round (S_x, 3))"
   ]
  },
  {
   "cell_type": "code",
   "execution_count": null,
   "id": "3e909c04",
   "metadata": {},
   "outputs": [],
   "source": []
  }
 ],
 "metadata": {
  "kernelspec": {
   "display_name": "Python 3 (ipykernel)",
   "language": "python",
   "name": "python3"
  },
  "language_info": {
   "codemirror_mode": {
    "name": "ipython",
    "version": 3
   },
   "file_extension": ".py",
   "mimetype": "text/x-python",
   "name": "python",
   "nbconvert_exporter": "python",
   "pygments_lexer": "ipython3",
   "version": "3.10.11"
  }
 },
 "nbformat": 4,
 "nbformat_minor": 5
}
