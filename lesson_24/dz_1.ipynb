{
 "cells": [
  {
   "cell_type": "markdown",
   "id": "c1d150f5",
   "metadata": {},
   "source": [
    "### *_Умова задачі_*"
   ]
  },
  {
   "cell_type": "markdown",
   "id": "28ed3c7c",
   "metadata": {},
   "source": [
    "*Два економісти заповнюють документи, які складають у спільну папку. Ймовірність зробити помилку в документі для першого економіста 0,1, для другого – 0,2. Перший економіст заповнив 40 документів, другий – 60. Навмання взятий з папки документ виявився з помилкою. Визначити ймовірність, що його склав перший економіст.*"
   ]
  },
  {
   "cell_type": "markdown",
   "id": "b368949b",
   "metadata": {},
   "source": [
    "### *_Опис рішення_*"
   ]
  },
  {
   "cell_type": "markdown",
   "id": "035ff40d",
   "metadata": {},
   "source": [
    "1. Визначаємо ймовірність того що буде взято документ:\n",
    "    * першого економіста;\n",
    "    * другого економіста.\n",
    "2. Розраховуємо ймовірність події, що буде взято документ з похибкою.\n",
    "3. За допомогою формули Байєса розрахуємо ймовірнісмть того, що взятий документ з помилкою склав перший економіст.\n"
   ]
  },
  {
   "cell_type": "markdown",
   "id": "7555d098",
   "metadata": {},
   "source": [
    "### *_Рішення_*"
   ]
  },
  {
   "cell_type": "code",
   "execution_count": 8,
   "id": "58777f29",
   "metadata": {},
   "outputs": [],
   "source": [
    "def add_opp_theorem (*args):\n",
    "    probabilitty=args\n",
    "    probabilities_all=sum(probabilitty)\n",
    "    return probabilities_all"
   ]
  },
  {
   "cell_type": "code",
   "execution_count": 9,
   "id": "122a6eda",
   "metadata": {},
   "outputs": [],
   "source": [
    "def mult_theorem (*args):\n",
    "    probability=1\n",
    "    for i in args:\n",
    "        probability *=i\n",
    "    return probability"
   ]
  },
  {
   "cell_type": "code",
   "execution_count": 17,
   "id": "7de28994",
   "metadata": {},
   "outputs": [],
   "source": [
    "def bayes_theorem (*args):\n",
    "    PA, PB_A, PB = args\n",
    "    PA_B = (PA*PB_A)/PB\n",
    "    return PA_B"
   ]
  },
  {
   "cell_type": "code",
   "execution_count": 11,
   "id": "f0bcdd91",
   "metadata": {},
   "outputs": [],
   "source": [
    "econom_1 = 40/100\n",
    "err_1 = 0.1\n",
    "econom_2 =60/100\n",
    "err_2 = 0.2"
   ]
  },
  {
   "cell_type": "code",
   "execution_count": 12,
   "id": "5d978177",
   "metadata": {},
   "outputs": [],
   "source": [
    "doc_err_1 = mult_theorem (econom_1, err_1)\n",
    "doc_err_2 = mult_theorem (econom_2, err_2)"
   ]
  },
  {
   "cell_type": "code",
   "execution_count": 13,
   "id": "876bf501",
   "metadata": {},
   "outputs": [],
   "source": [
    "err_all = add_opp_theorem (doc_err_1, doc_err_2)"
   ]
  },
  {
   "cell_type": "code",
   "execution_count": 19,
   "id": "8f2e97c1",
   "metadata": {},
   "outputs": [
    {
     "name": "stdout",
     "output_type": "stream",
     "text": [
      "Ймовірність, що взятий документ склав перший економіст: 0.25000000000000006\n"
     ]
    }
   ],
   "source": [
    "result = bayes_theorem (econom_1, err_1, err_all)\n",
    "print('Ймовірність, що взятий документ склав перший економіст:', result)"
   ]
  }
 ],
 "metadata": {
  "kernelspec": {
   "display_name": "Python 3 (ipykernel)",
   "language": "python",
   "name": "python3"
  },
  "language_info": {
   "codemirror_mode": {
    "name": "ipython",
    "version": 3
   },
   "file_extension": ".py",
   "mimetype": "text/x-python",
   "name": "python",
   "nbconvert_exporter": "python",
   "pygments_lexer": "ipython3",
   "version": "3.10.11"
  }
 },
 "nbformat": 4,
 "nbformat_minor": 5
}
