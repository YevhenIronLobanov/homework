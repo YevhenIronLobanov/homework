{
 "cells": [
  {
   "cell_type": "markdown",
   "id": "0a0f5e6e",
   "metadata": {},
   "source": [
    "### *_Умова задачі_*"
   ]
  },
  {
   "cell_type": "markdown",
   "id": "e9e35b31",
   "metadata": {},
   "source": [
    "*Є можливість вибору виробництва та реалізації двох наборів товарів широкого вжитку. За даними відділу маркетингу, яким були проведені дослідження ринку, можливий прибуток від виробництва і реалізації Х і Y наведено в таблицях(Х,Y - прибуток у грощових одиницях).*\n",
    "| X |1000 |1500|2000|\n",
    "|---|-----|----|----|\n",
    "| P |0.5  |0.3 |0.2 |\n",
    "\n",
    "| Y |1000 |1500|1750|\n",
    "|---|-----|----|----|\n",
    "| P |0.4  |0.4 |0.2 |\n",
    "\n",
    "*Потрібно оцінити ступінь ризику та запропонувати рішення щодо випуску та реалізації одного із наборів товарів.*"
   ]
  },
  {
   "cell_type": "markdown",
   "id": "91742c7c",
   "metadata": {},
   "source": [
    "### *_Рішення_*"
   ]
  },
  {
   "cell_type": "markdown",
   "id": "73401f76",
   "metadata": {},
   "source": [
    "####  *_1. Розрахуємо математичне сподівання (очікуваний дохід) для обох груп товарів_*"
   ]
  },
  {
   "cell_type": "code",
   "execution_count": 3,
   "id": "a0a4b500",
   "metadata": {},
   "outputs": [
    {
     "data": {
      "text/plain": [
       "1350.0"
      ]
     },
     "execution_count": 3,
     "metadata": {},
     "output_type": "execute_result"
    }
   ],
   "source": [
    "M_x = 1000*0.5 + 1500*0.3 + 2000*0.2\n",
    "M_x"
   ]
  },
  {
   "cell_type": "code",
   "execution_count": 4,
   "id": "697685d8",
   "metadata": {},
   "outputs": [
    {
     "data": {
      "text/plain": [
       "1350.0"
      ]
     },
     "execution_count": 4,
     "metadata": {},
     "output_type": "execute_result"
    }
   ],
   "source": [
    "M_y = 1000*0.4 + 1500*0.4 + 1750*0.2\n",
    "M_y"
   ]
  },
  {
   "cell_type": "markdown",
   "id": "49464a3e",
   "metadata": {},
   "source": [
    "####  *_2. Розрахуємо дисперсію (середньоквадратичне відхилення від очікуваного доходу) для обох груп товарів_*"
   ]
  },
  {
   "cell_type": "code",
   "execution_count": 5,
   "id": "e0399ba8",
   "metadata": {
    "scrolled": true
   },
   "outputs": [
    {
     "data": {
      "text/plain": [
       "152500.0"
      ]
     },
     "execution_count": 5,
     "metadata": {},
     "output_type": "execute_result"
    }
   ],
   "source": [
    "D_x = (1000**2*0.5 + 1500**2*0.3 + 2000**2*0.2) - M_x**2\n",
    "D_x"
   ]
  },
  {
   "cell_type": "code",
   "execution_count": 6,
   "id": "70679807",
   "metadata": {},
   "outputs": [
    {
     "data": {
      "text/plain": [
       "90000.0"
      ]
     },
     "execution_count": 6,
     "metadata": {},
     "output_type": "execute_result"
    }
   ],
   "source": [
    "D_y = (1000**2*0.4 + 1500**2*0.4 + 1750**2*0.2) - M_y**2\n",
    "D_y"
   ]
  },
  {
   "cell_type": "markdown",
   "id": "35e3d569",
   "metadata": {},
   "source": [
    "####  *_3. Розрахуємо стандартне відхилення (ступінь ризику) для обох груп товарів_*"
   ]
  },
  {
   "cell_type": "code",
   "execution_count": 8,
   "id": "bf33a06c",
   "metadata": {},
   "outputs": [
    {
     "data": {
      "text/plain": [
       "390.51248379533274"
      ]
     },
     "execution_count": 8,
     "metadata": {},
     "output_type": "execute_result"
    }
   ],
   "source": [
    "σ_x = D_x**(1/2)\n",
    "σ_x\n"
   ]
  },
  {
   "cell_type": "code",
   "execution_count": 9,
   "id": "6db9bed0",
   "metadata": {},
   "outputs": [
    {
     "data": {
      "text/plain": [
       "300.0"
      ]
     },
     "execution_count": 9,
     "metadata": {},
     "output_type": "execute_result"
    }
   ],
   "source": [
    "σ_y = D_y**(1/2)\n",
    "σ_y"
   ]
  },
  {
   "cell_type": "markdown",
   "id": "b766a762",
   "metadata": {},
   "source": [
    "### *_Висновок_*"
   ]
  },
  {
   "cell_type": "markdown",
   "id": "1e3db725",
   "metadata": {},
   "source": [
    "*Враховуючи те, що очікуваний дохід по обом групам товарів є однаковий (1350), але  ступінь ризику по другій групі товарів (300) менше ніж по першій групі товарів (390.51), другий варіант є менш ризикованим і рекомендований до випуску і реалізації.*"
   ]
  }
 ],
 "metadata": {
  "kernelspec": {
   "display_name": "Python 3 (ipykernel)",
   "language": "python",
   "name": "python3"
  },
  "language_info": {
   "codemirror_mode": {
    "name": "ipython",
    "version": 3
   },
   "file_extension": ".py",
   "mimetype": "text/x-python",
   "name": "python",
   "nbconvert_exporter": "python",
   "pygments_lexer": "ipython3",
   "version": "3.10.11"
  }
 },
 "nbformat": 4,
 "nbformat_minor": 5
}
