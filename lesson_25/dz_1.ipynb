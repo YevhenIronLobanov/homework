{
 "cells": [
  {
   "cell_type": "markdown",
   "id": "9a943487",
   "metadata": {},
   "source": [
    "### *_Умова задачі_*"
   ]
  },
  {
   "cell_type": "markdown",
   "id": "7e2ae436",
   "metadata": {},
   "source": [
    "*Ймовірність того, що при перевірці деталь виявиться стандартною, дорівнює 0,6. Перевірці підлягають 3 деталі. Побудувати\n",
    "закон розподілу системи двох дискретних випадкових величин X –\n",
    "появи числа бракованих деталей і Y – появи числа стандартних деталей. Обчислити коефіцієнт кореляції r_xy.*"
   ]
  },
  {
   "cell_type": "markdown",
   "id": "e030b1c6",
   "metadata": {},
   "source": [
    "### *_Опис рішення_*"
   ]
  },
  {
   "cell_type": "markdown",
   "id": "111fb5ca",
   "metadata": {},
   "source": [
    "1. Визначаємо можливі комбінацій наявності стандартних і бракованих деталей при перевірці 3 деталей.\n",
    "2. Визначаємо ймовірність появи певної комбінації бракованих і стандартних деталей.\n",
    "3. На основі отриманих даних будуємо закон розподілу системи двох дискретних величин.\n",
    "4. На основі даних пункту 3 будуємо закон розподілу окремо для X та Y.\n",
    "5. Розраховуємо окремо для X та Y:  \n",
    "    5.1 Математичне очікування появи події;  \n",
    "    5.2 Дисперсію;  \n",
    "    5.3 Квадратичне відхилення.   \n",
    "6. На основі отриманних даних розраховуємо:  \n",
    "    6.1 Математичне очікування появи обох подій;  \n",
    "    6.2 Коваріацію;  \n",
    "    6.3 Кофіцієнт кореляції r_xy.  "
   ]
  },
  {
   "cell_type": "markdown",
   "id": "f47c2161",
   "metadata": {},
   "source": [
    "### *_Рішення_*"
   ]
  },
  {
   "cell_type": "markdown",
   "id": "911ef0ae",
   "metadata": {},
   "source": [
    "Враховуючи те, що на перевірку взято 3 деталі можливі такі комбінації:\n",
    "A) 0 брак + 3 стандарт;\n",
    "B) 1 брак +2 стандарт;\n",
    "C) 2 брак + 1 стандарт;\n",
    "D) 3 брак + 0 стандарт.  \n",
    "І навпаки."
   ]
  },
  {
   "cell_type": "code",
   "execution_count": 8,
   "id": "1a9d5d62",
   "metadata": {},
   "outputs": [
    {
     "data": {
      "text/plain": [
       "(0.216, 0.43199999999999994, 0.28800000000000003, 0.06400000000000002)"
      ]
     },
     "execution_count": 8,
     "metadata": {},
     "output_type": "execute_result"
    }
   ],
   "source": [
    "A = 0.6*0.6*0.6\n",
    "B = (0.4*0.6*0.6)*3\n",
    "C = (0.4*0.4*0.6)*3\n",
    "D = 0.4*0.4*0.4\n",
    "A,B,C,D"
   ]
  },
  {
   "cell_type": "markdown",
   "id": "ebd42297",
   "metadata": {},
   "source": [
    "### *Закон розподілу системи двох дискретних величин X та Y*\n",
    "\n",
    "| X/Y |  0   |  1   |  2   |  3   |P(X)  |\n",
    "|-----|------|------|------|------|------|\n",
    "|  0  |  0   |  0   |  0   |0.216 |0.216 |\n",
    "|  1  |  0   |  0   |0.432 |  0   |0.432 |\n",
    "|  2  |  0   |0.288 |  0   |  0   |0.288 |\n",
    "|  3  |0.064 |  0   |  0   |  0   |0.064 |\n",
    "|P(Y) |0.064 |0.288 |0.432 |0.216 |   1  |"
   ]
  },
  {
   "cell_type": "markdown",
   "id": "e7b400eb",
   "metadata": {},
   "source": [
    "### *Закон розподілу для величини X*\n",
    "| X   |  0   |  1   |  2   |  3   |   \n",
    "|-----|------|------|------|------|    \n",
    "| p   |0.216 |0.432 |0.288 |0.064 |\n",
    "\n",
    "### *Закон розподілу для величини Y*\n",
    "\n",
    "|  Y  |  0   |  1   |  2   |  3   |\n",
    "|-----|------|------|------|------|\n",
    "| p   |0.064 |0.288 |0.432 |0.216 |"
   ]
  },
  {
   "cell_type": "code",
   "execution_count": 36,
   "id": "e2fc985a",
   "metadata": {},
   "outputs": [
    {
     "name": "stdout",
     "output_type": "stream",
     "text": [
      "M(X)= 1.2\n",
      "D(X)= 0.72\n",
      "σ(x)= 0.849\n",
      "M(Y)= 1.8\n",
      "D(Y)= 0.72\n",
      "σ(Y)= 0.849\n"
     ]
    }
   ],
   "source": [
    "def math_exp (x, p):\n",
    "    M = 0\n",
    "    D = 0\n",
    "    for i in range(len(x)):\n",
    "        M += x[i]*p[i]\n",
    "        D += ((x[i]**2)*p[i])\n",
    "    D -= M**2\n",
    "    σ = D**(1/2)\n",
    "    return M, D, σ\n",
    "\n",
    "M_X,D_X,σ_x = math_exp ([0, 1 , 2, 3], [0.216, 0.432, 0.288, 0.064])\n",
    "M_X = round(M_X, 3)\n",
    "D_X = round(D_X, 3)\n",
    "σ_x = round(σ_x, 3)\n",
    "print ('M(X)=', M_X)\n",
    "print ('D(X)=', D_X) \n",
    "print ('σ(x)=', σ_x)\n",
    "                          \n",
    "M_Y, D_Y, σ_Y = math_exp ([0, 1 , 2, 3], [0.064, 0.288, 0.432, 0.216])\n",
    "M_Y = round(M_Y, 3)\n",
    "D_Y = round(D_Y, 3)\n",
    "σ_Y = round (σ_Y, 3)\n",
    "print ('M(Y)=', M_Y)\n",
    "print('D(Y)=', D_Y)\n",
    "print('σ(Y)=', σ_Y)"
   ]
  },
  {
   "cell_type": "code",
   "execution_count": 38,
   "id": "bbf9818e",
   "metadata": {},
   "outputs": [],
   "source": [
    "import numpy as np\n",
    "p =np.array ([[0, 0, 0, 0.216],\n",
    "             [0, 0, 0.432, 0],\n",
    "             [0, 0.288, 0, 0],\n",
    "             [0.064, 0, 0, 0]])"
   ]
  },
  {
   "cell_type": "code",
   "execution_count": 39,
   "id": "5fed4195",
   "metadata": {},
   "outputs": [],
   "source": [
    "x = np.array([0, 1, 2, 3])\n",
    "y = np.array ([0, 1, 2, 3])"
   ]
  },
  {
   "cell_type": "code",
   "execution_count": 45,
   "id": "f32d1652",
   "metadata": {},
   "outputs": [
    {
     "name": "stdout",
     "output_type": "stream",
     "text": [
      "M_XY= 1.44\n"
     ]
    }
   ],
   "source": [
    "def math_all (x, y, p):\n",
    "    M_XY = 0\n",
    "    for i in range(len(x)):\n",
    "        for j in range (len(y)):\n",
    "            M_XY += x[i]*y[j]*p[i][j]\n",
    "    return M_XY\n",
    "M_XY = math_all(x, y, p)\n",
    "print('M_XY=', M_XY)\n",
    "        "
   ]
  },
  {
   "cell_type": "code",
   "execution_count": 50,
   "id": "243c1738",
   "metadata": {},
   "outputs": [
    {
     "name": "stdout",
     "output_type": "stream",
     "text": [
      "cov= -0.72\n"
     ]
    }
   ],
   "source": [
    "cov = M_XY-M_X*M_Y\n",
    "cov = round(cov,3)\n",
    "print('cov=', cov)"
   ]
  },
  {
   "cell_type": "code",
   "execution_count": 54,
   "id": "6e43f53f",
   "metadata": {},
   "outputs": [
    {
     "name": "stdout",
     "output_type": "stream",
     "text": [
      "r_xy= -0.999\n"
     ]
    }
   ],
   "source": [
    "r_xy = cov/(σ_x*σ_Y)\n",
    "r_xy = round(r_xy,3)\n",
    "print('r_xy=', r_xy)"
   ]
  },
  {
   "cell_type": "code",
   "execution_count": null,
   "id": "9a051602",
   "metadata": {},
   "outputs": [],
   "source": []
  }
 ],
 "metadata": {
  "kernelspec": {
   "display_name": "Python 3 (ipykernel)",
   "language": "python",
   "name": "python3"
  },
  "language_info": {
   "codemirror_mode": {
    "name": "ipython",
    "version": 3
   },
   "file_extension": ".py",
   "mimetype": "text/x-python",
   "name": "python",
   "nbconvert_exporter": "python",
   "pygments_lexer": "ipython3",
   "version": "3.10.11"
  }
 },
 "nbformat": 4,
 "nbformat_minor": 5
}
