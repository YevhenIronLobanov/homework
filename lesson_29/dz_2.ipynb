{
 "cells": [
  {
   "cell_type": "markdown",
   "id": "ae72d5b1",
   "metadata": {},
   "source": [
    "### *_Умова задачі_*"
   ]
  },
  {
   "cell_type": "markdown",
   "id": "a53a2401",
   "metadata": {},
   "source": [
    "Випадкова велиина Х розподілена рівномірно. Знайти щільність її розподілу, якщо P(X >= 3) 0.4, а математичне сподівання рівне M(X) = 2."
   ]
  },
  {
   "cell_type": "markdown",
   "id": "25d541f2",
   "metadata": {},
   "source": [
    "### *_Опис рішення_*"
   ]
  },
  {
   "cell_type": "markdown",
   "id": "89269a87",
   "metadata": {},
   "source": [
    "1. Визначимо мінімальне і максимальне значення розподілу випадкової величини X.  \n",
    "    1.1. Оскільки M(x)=(a+b)/2, а M(x)=2, відповідно a+b = 4.  \n",
    "    1.2. Відповідно до умов задачі P(X >= 3) = 0.4, таким чином P(X >= 3)=(b - 3)/(b - a)=0.4.\n",
    "2. За допомогою бібіліотеки sympy вирішуємо систему рівнянь отриману в пункті 1.\n",
    "3. Виводимо щіл ьність розподілу випадкової величини Х."
   ]
  },
  {
   "cell_type": "markdown",
   "id": "e8886e2d",
   "metadata": {},
   "source": [
    "### *_Рішення_*"
   ]
  },
  {
   "cell_type": "code",
   "execution_count": 4,
   "id": "df23cb1a",
   "metadata": {},
   "outputs": [
    {
     "name": "stdout",
     "output_type": "stream",
     "text": [
      "a = -3.0\n",
      "b = 7.0\n"
     ]
    }
   ],
   "source": [
    "import sympy as sym\n",
    "a, b = sym.symbols('a b')\n",
    "equat_1 = (b - 3) / (b - a) - 0.4\n",
    "equat_2 = (a + b) / 2 - 2\n",
    "solut = sym.solve((equat_1, equat_2), (a, b))\n",
    "a_value = round(float(solut[a]), 1)\n",
    "b_value = round(float(solut[b]), 1)\n",
    "print('a =', a_value)\n",
    "print('b =', b_value)\n"
   ]
  },
  {
   "cell_type": "code",
   "execution_count": 5,
   "id": "3fc87001",
   "metadata": {},
   "outputs": [
    {
     "name": "stdout",
     "output_type": "stream",
     "text": [
      "f(x) = 0, якщо X <= -3.0\n",
      "f(x) = 0.1, якщо -3.0 < X <= 7.0\n",
      "f(x) = 0, якщо X > 7.0\n"
     ]
    }
   ],
   "source": [
    "print(f'f(x) = {0}, якщо X <= {a_value}')\n",
    "print(f'f(x) = {1 / (b_value - a_value)}, якщо {a_value} < X <= {b_value}')\n",
    "print(f'f(x) = {0}, якщо X > {b_value}')"
   ]
  },
  {
   "cell_type": "code",
   "execution_count": null,
   "id": "ef36cea7",
   "metadata": {},
   "outputs": [],
   "source": []
  }
 ],
 "metadata": {
  "kernelspec": {
   "display_name": "Python 3 (ipykernel)",
   "language": "python",
   "name": "python3"
  },
  "language_info": {
   "codemirror_mode": {
    "name": "ipython",
    "version": 3
   },
   "file_extension": ".py",
   "mimetype": "text/x-python",
   "name": "python",
   "nbconvert_exporter": "python",
   "pygments_lexer": "ipython3",
   "version": "3.10.11"
  }
 },
 "nbformat": 4,
 "nbformat_minor": 5
}
