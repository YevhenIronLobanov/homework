{
 "cells": [
  {
   "cell_type": "markdown",
   "id": "e7937cc8",
   "metadata": {},
   "source": [
    "### *_Умова задачі_*"
   ]
  },
  {
   "cell_type": "markdown",
   "id": "a294540a",
   "metadata": {},
   "source": [
    "Протягом 50 років вимірювався рівень води навесні під час повені відносно умовного нуля. Результати вимірювання наведено у вигляді інтервального статистичного розподілу:\n",
    "|   x_i  |  0-24  | 24-48 | 48-72 | 72-96 | 96-120 | 120-144 | 144-168 | 168-192 | 192-216 |\n",
    "|------- |-------|-------|-------|-------|--------| ------- | ------- | ------- | ------- |\n",
    "|   n_i  |   1   |   2   |   4   |   6   |   12   |   16    |    6    |   2     |   1     |\n",
    "\n",
    "\n",
    "\n",
    "За заданими статистичними розподілами вибірки висунути Н0 про закон розподілу ознаки\n",
    "генеральної сукупності і при рівні значущості α = 0,01 перевірити її правильність."
   ]
  },
  {
   "cell_type": "markdown",
   "id": "2353ffa7",
   "metadata": {},
   "source": [
    "### *_Опис рішення_*"
   ]
  },
  {
   "cell_type": "markdown",
   "id": "3166017d",
   "metadata": {},
   "source": [
    "1. Припускаємо і висуваємо гіпотезу Н0, що маємо нормальний закон розподілу ймовірностей. \n",
    "2. Розраховуємо середини часткових інтервалів і запишемо їх в таблицю.\n",
    "3. Розраховуємо вибіркове середнє значення (мат.очікування) та середнє відхилення.\n",
    "3. Розраховуємо z iнтервали, при цьому мінімальне значення дорівнює −∞, а максимальне +∞. \n",
    "4. Використовуючи інтегральну функцію Лапласа для визначення Ф(z_i) і Ф(z_i−1) розраховуємо теоретичні ймовірності p_i за формулою p_i = Ф(z_i) - Ф(z_i−1).\n",
    "5. Розрахуємо теоретичні частоти за допомогою формули n_i_= n*p_i, де n = 50, тоб то об'єм вибірки, а саме 50 років спостережень.\n",
    "6. РОзраховуємо вібіркове значення критерерію K_еmp.\n",
    "7. На основі отриманих даних пункту 6 розраховуємо K_emp.\n",
    "8. Визначаємо число ступенів свободи та визначаємо критичну точку.\n",
    "9. Висновок\n"
   ]
  },
  {
   "cell_type": "markdown",
   "id": "051ccee9",
   "metadata": {},
   "source": [
    "### *_Рішення_*"
   ]
  },
  {
   "cell_type": "code",
   "execution_count": 7,
   "id": "b8d3009d",
   "metadata": {},
   "outputs": [],
   "source": [
    "def mid_interval(x_i, x_i1):\n",
    "    N = []\n",
    "    for i, u in zip(x_i, x_i1):\n",
    "        N.append((i + u) / 2)\n",
    "    return N\n",
    "\n",
    "\n"
   ]
  },
  {
   "cell_type": "code",
   "execution_count": 10,
   "id": "35abf064",
   "metadata": {},
   "outputs": [
    {
     "name": "stdout",
     "output_type": "stream",
     "text": [
      "N_: [12.0, 36.0, 60.0, 84.0, 108.0, 132.0, 156.0, 180.0, 204.0]\n"
     ]
    }
   ],
   "source": [
    "x_i = [0, 24, 48, 72, 96, 120, 144, 168, 192]\n",
    "x_i1 = [24, 48, 72, 96, 120, 144, 168, 192, 216]\n",
    "N_ = mid_interval(x_i, x_i1)\n",
    "print('N_:', N_)"
   ]
  },
  {
   "cell_type": "markdown",
   "id": "2561e4d5",
   "metadata": {},
   "source": [
    "|   N_   |  12   | 36    |  60   |   84  |   108  |   132   |   156   |   180   |   204   |\n",
    "|------- |-------|-------|-------|-------|--------| ------- | ------- | ------- | ------- |\n",
    "|   n_i  |   1   |   2   |   4   |   6   |   12   |   16    |    6    |   2     |   1     |"
   ]
  },
  {
   "cell_type": "code",
   "execution_count": 3,
   "id": "1c040e65",
   "metadata": {},
   "outputs": [],
   "source": [
    "from math import pow, sqrt"
   ]
  },
  {
   "cell_type": "code",
   "execution_count": 11,
   "id": "c25e8be1",
   "metadata": {},
   "outputs": [],
   "source": [
    "def mid(N_, n_i):\n",
    "    x_ = 0\n",
    "    for i, u in zip(N_, n_i):\n",
    "        x_ += i*u\n",
    "    x_ = x_/sum(n_i)\n",
    "    return x_"
   ]
  },
  {
   "cell_type": "code",
   "execution_count": 12,
   "id": "d3857b92",
   "metadata": {},
   "outputs": [],
   "source": [
    "def disp(N_, n_i, x_):\n",
    "    d_ = 0\n",
    "    for i, u in zip(N_, n_i):\n",
    "        d_ += pow(i,2) * u\n",
    "    d_ = d_/sum(n_i) - pow(x_,2)\n",
    "    return d_\n",
    "    \n",
    "   \n",
    "    "
   ]
  },
  {
   "cell_type": "code",
   "execution_count": 13,
   "id": "7c0406ce",
   "metadata": {},
   "outputs": [
    {
     "name": "stdout",
     "output_type": "stream",
     "text": [
      "X_: 114.72\n",
      "D_: 1452.44\n"
     ]
    }
   ],
   "source": [
    "n_i = [1, 2, 4, 6, 12, 16, 6, 2, 1]\n",
    "X_ =  mid(N_, n_i)\n",
    "D_ = disp(N_, n_i, X_)\n",
    "print ('X_:', round(X_,2))\n",
    "print ('D_:', round (D_,2))"
   ]
  },
  {
   "cell_type": "code",
   "execution_count": 14,
   "id": "e03a1182",
   "metadata": {},
   "outputs": [
    {
     "name": "stdout",
     "output_type": "stream",
     "text": [
      "σ_: 38.11\n"
     ]
    }
   ],
   "source": [
    "σ_ = sqrt(D_)\n",
    "print ('σ_:', round (σ_,2))"
   ]
  },
  {
   "cell_type": "code",
   "execution_count": 15,
   "id": "c2d9dffd",
   "metadata": {},
   "outputs": [
    {
     "name": "stdout",
     "output_type": "stream",
     "text": [
      "Z_i_1: ['-∞', -2.38, -1.75, -1.12, -0.49, 0.14, 0.77, 1.4, 2.03]\n",
      "Z_i: [-2.38, -1.75, -1.12, -0.49, 0.14, 0.77, 1.4, 2.03, '+∞']\n"
     ]
    }
   ],
   "source": [
    "def zet(x_i, x_i1, X_, σ_):\n",
    "    z_i_1 = ['-∞']\n",
    "    z = []\n",
    "\n",
    "    for zet_1 in x_i[1:]:\n",
    "        z_1 = (zet_1 - X_) / σ_\n",
    "        z_i_1.append(round(z_1, 2))\n",
    "\n",
    "    for zet in x_i1[:-1]:\n",
    "        z_i = (zet - X_) / σ_\n",
    "        z.append(round(z_i, 2))\n",
    "    z.append('+∞')\n",
    "    return z_i_1, z\n",
    "z_i_1, z = zet(x_i, x_i1, X_, σ_)\n",
    "print(\"Z_i_1:\", z_i_1)\n",
    "print(\"Z_i:\", z)"
   ]
  },
  {
   "cell_type": "code",
   "execution_count": 16,
   "id": "55085454",
   "metadata": {},
   "outputs": [
    {
     "name": "stdout",
     "output_type": "stream",
     "text": [
      "p_i: [0.009, 0.031, 0.091, 0.181, 0.244, 0.224, 0.14, 0.054, 0.027]\n"
     ]
    }
   ],
   "source": [
    "def theor_probab(F_z_i_1, F_z_i):\n",
    "    p_i = []\n",
    "    for z_i, z in zip(F_z_i_1, F_z_i):\n",
    "        p_i.append(round((z - z_i),3))\n",
    "    return p_i\n",
    "\n",
    "F_z_i_1 = [-0.5, -0.4913, -0.4599, -0.3686, -0.1879, 0.0557, 0.2794, 0.4192, 0.4733]\n",
    "F_z_i = [-0.4913, -0.4599, -0.3686, -0.1879, 0.0557, 0.2794, 0.4192, 0.4733, 0.5]\n",
    "p_i = theor_probab(F_z_i_1, F_z_i)\n",
    "print('p_i:', p_i)"
   ]
  },
  {
   "cell_type": "code",
   "execution_count": 17,
   "id": "d073359a",
   "metadata": {},
   "outputs": [
    {
     "name": "stdout",
     "output_type": "stream",
     "text": [
      "n_: [0.0, 2.0, 5.0, 9.0, 12.0, 11.0, 7.0, 3.0, 1.0]\n"
     ]
    }
   ],
   "source": [
    "def theor_freq (n, p_i):\n",
    "    n_ = []\n",
    "    for p in p_i:\n",
    "        n_.append(round((n*p),0))\n",
    "    return n_\n",
    "n = 50\n",
    "n_ = theor_freq(n, p_i)\n",
    "print ('n_:', n_)"
   ]
  },
  {
   "cell_type": "markdown",
   "id": "e028cd14",
   "metadata": {},
   "source": [
    "| i | Z_i_1 Z_i | F_z_i_1 | F_z_i | p_i   | n_ |\n",
    "|---|---------|---------|-------|-------|----|\n",
    "| 1 | -∞ -2.38| -0.5    | -0.4913| 0.009 | 0  |\n",
    "| 2 | -2.07 -1.75 | -0.4913 | -0.4599 | 0.031 | 2  |\n",
    "| 3 | -1.44 -1.12 | -0.4599 | -0.3686 | 0.091 | 5  |\n",
    "| 4 | -0.81 -0.49 | -0.3686 | -0.1879 | 0.181 | 9  |\n",
    "| 5 | -0.18 0.14  | -0.1879 | 0.0557  | 0.244 | 12 |\n",
    "| 6 | 0.45 0.77   | 0.0557  | 0.2794  | 0.224 | 11 |\n",
    "| 7 | 1.08 1.4    | 0.2794  | 0.4192  | 0.14  | 7  |\n",
    "| 8 | 1.71 2.03   | 0.4192  | 0.4733  | 0.054 | 3  |\n",
    "| 9 | 2.34 +∞     | 0.4733  | 0.5     | 0.027 | 1  |\n",
    "\n"
   ]
  },
  {
   "cell_type": "code",
   "execution_count": 19,
   "id": "bfc59c14",
   "metadata": {},
   "outputs": [
    {
     "name": "stdout",
     "output_type": "stream",
     "text": [
      "crt_1: [1.0, 0.0, -1.0, -3.0, 0.0, 5.0, -1.0, -1.0, 0.0]\n",
      "crt_2: [1.0, 0.0, 1.0, 9.0, 0.0, 25.0, 1.0, 1.0, 0.0]\n",
      "crt_3: [0, 0.0, 0.2, 1.0, 0.0, 2.273, 0.143, 0.333, 0.0]\n"
     ]
    }
   ],
   "source": [
    "def сrit_emp(n_i, n_):\n",
    "    crt_1 = []\n",
    "    crt_2 = []\n",
    "    crt_3 = []\n",
    "    for i, u in zip(n_i, n_):\n",
    "        crt_1.append(i - u)\n",
    "        crt_2.append(pow(i - u, 2))\n",
    "        try:\n",
    "            crt_3.append(round((pow(i - u, 2) / u), 3))\n",
    "        except ZeroDivisionError:\n",
    "            crt_3.append(0)\n",
    "    return crt_1, crt_2, crt_3\n",
    "\n",
    "crt_1, crt_2, crt_3 = сrit_emp(n_i, n_)\n",
    "print('crt_1:', crt_1)\n",
    "print('crt_2:', crt_2)\n",
    "print('crt_3:', crt_3)"
   ]
  },
  {
   "cell_type": "markdown",
   "id": "3be0aa52",
   "metadata": {},
   "source": [
    "| n_i | n_ | n_i - n_| pow (n_i - n_),2)| pow (n_i - n_),2)/n_|\n",
    "|---  |----|---------|-------           |-------              |\n",
    "|  1  |  0 |    1    |         1        |          0          |\n",
    "|  2  |  2 |    0    |         0        |          0          | \n",
    "|  4  |  5 |   -1    |         1        |          0.2        | \n",
    "|  6  |  9 |   -3    |         9        |          1          |\n",
    "| 12  | 12 |    0    |         0        |          0          | \n",
    "| 16  | 11 |    5    |        25        |          2.273      | \n",
    "|  6  |  7 |   -1    |         1        |          0.143      |\n",
    "|  2  |  3 |   -1    |         1        |          0.333      | \n",
    "|  1  |  1 |    0    |         0        |          0          |\n"
   ]
  },
  {
   "cell_type": "code",
   "execution_count": 20,
   "id": "dde188e2",
   "metadata": {},
   "outputs": [
    {
     "name": "stdout",
     "output_type": "stream",
     "text": [
      "K_emp: 3.949\n"
     ]
    }
   ],
   "source": [
    "def K_emp(crt_3):\n",
    "    K_emp_sum = 0\n",
    "    for i in crt_3:\n",
    "        K_emp_sum += i\n",
    "    return K_emp_sum\n",
    "k_emp_result = K_emp(crt_3)\n",
    "print('K_emp:', k_emp_result)"
   ]
  },
  {
   "cell_type": "code",
   "execution_count": 1,
   "id": "178ca0e6",
   "metadata": {},
   "outputs": [
    {
     "name": "stdout",
     "output_type": "stream",
     "text": [
      "r: 6\n"
     ]
    }
   ],
   "source": [
    "m =9\n",
    "s = 2\n",
    "r = 9-2-1\n",
    "print('r:', r)"
   ]
  },
  {
   "cell_type": "markdown",
   "id": "95dfb3f6",
   "metadata": {},
   "source": [
    "K_kr = 𝜒2 (0,01; 6) = 16.8"
   ]
  },
  {
   "cell_type": "markdown",
   "id": "a3cf137b",
   "metadata": {},
   "source": [
    "### Висновок: Оскільки K_kr > K_emp  гіпотеза щодо нормального розподілу генеральної сукупності приймається."
   ]
  },
  {
   "cell_type": "code",
   "execution_count": null,
   "id": "38928d08",
   "metadata": {},
   "outputs": [],
   "source": []
  }
 ],
 "metadata": {
  "kernelspec": {
   "display_name": "Python 3 (ipykernel)",
   "language": "python",
   "name": "python3"
  },
  "language_info": {
   "codemirror_mode": {
    "name": "ipython",
    "version": 3
   },
   "file_extension": ".py",
   "mimetype": "text/x-python",
   "name": "python",
   "nbconvert_exporter": "python",
   "pygments_lexer": "ipython3",
   "version": "3.10.11"
  }
 },
 "nbformat": 4,
 "nbformat_minor": 5
}
