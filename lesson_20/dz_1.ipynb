{
 "cells": [
  {
   "cell_type": "markdown",
   "id": "43c50bf2",
   "metadata": {},
   "source": [
    "<center><span style=\"font-size:15px;\"><strong>My first table in jupyter notebook</strong></span></center>\n",
    "\n",
    " \n",
    "\n",
    "|year  |rank  |company                  |revenue    | profit  |\n",
    "|:--   | :--: |     :-----:             |  :---:    |    ---: |\n",
    "|1955  |229   |Norton                   |135.0      | N.A     |\n",
    "|1955  |291   |Schlitz Brewing          |100.0      | N.A     |\n",
    "|1955  |295   |Pacific Vegetable Oil    |97.9       | N.A     |\n",
    "|1955  |297   |Liebmann Breweries       |96.0       | N.A     |\n",
    "|1955  |353   |Minneanapolis-Moline     |77.4       | N.A     |\n",
    "\n",
    "\n",
    "\n"
   ]
  }
 ],
 "metadata": {
  "kernelspec": {
   "display_name": "Python 3 (ipykernel)",
   "language": "python",
   "name": "python3"
  },
  "language_info": {
   "codemirror_mode": {
    "name": "ipython",
    "version": 3
   },
   "file_extension": ".py",
   "mimetype": "text/x-python",
   "name": "python",
   "nbconvert_exporter": "python",
   "pygments_lexer": "ipython3",
   "version": "3.10.11"
  }
 },
 "nbformat": 4,
 "nbformat_minor": 5
}
