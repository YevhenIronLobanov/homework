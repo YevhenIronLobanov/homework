{
 "cells": [
  {
   "cell_type": "code",
   "execution_count": 10,
   "id": "6d0ea02c",
   "metadata": {},
   "outputs": [],
   "source": [
    "import random\n",
    "from random_words import RandomWords\n",
    "int_list = []\n",
    "float_list = []\n",
    "str_list = []\n",
    "words = RandomWords()\n",
    "for i in range(0, 5000):\n",
    "    int_list.append(random.randint(0, 1000))\n",
    "    float_list.append(random.uniform(0.1, 100.0))\n",
    "    str_list.append(words.random_word())\n"
   ]
  },
  {
   "cell_type": "code",
   "execution_count": 11,
   "id": "352f011a",
   "metadata": {},
   "outputs": [],
   "source": [
    "#Створюємо функцію бульбашкового сортування для чисел\n",
    "def bubble_sort(data):\n",
    "   \n",
    "    length = len(data)\n",
    "    # Запускаємо цикл\n",
    "    for iIndex in range(length):\n",
    "        swapped = False\n",
    "        for jIndex in range(0, length - iIndex - 1):\n",
    "            # Запускаємо сортування\n",
    "            if data[jIndex] > data[jIndex + 1]:\n",
    "                data[jIndex], data[jIndex + 1] = data[jIndex + 1], data[jIndex]\n",
    "                swapped = True\n",
    "        if not swapped:\n",
    "            break"
   ]
  },
  {
   "cell_type": "markdown",
   "id": "28aa2cf7",
   "metadata": {},
   "source": [
    "### Швидкість сортування цілих чисел"
   ]
  },
  {
   "cell_type": "code",
   "execution_count": 15,
   "id": "3566d1e2",
   "metadata": {
    "scrolled": true
   },
   "outputs": [
    {
     "name": "stdout",
     "output_type": "stream",
     "text": [
      "436 µs ± 101 µs per loop (mean ± std. dev. of 10 runs, 10 loops each)\n"
     ]
    }
   ],
   "source": [
    "%%timeit -r 10 -n 10\n",
    "bubble_sort(int_list)"
   ]
  },
  {
   "cell_type": "markdown",
   "id": "ddbe691d",
   "metadata": {},
   "source": [
    "### Швидкість сортування  чисел з плаваючою крапкою"
   ]
  },
  {
   "cell_type": "code",
   "execution_count": 16,
   "id": "74cef67e",
   "metadata": {},
   "outputs": [
    {
     "name": "stdout",
     "output_type": "stream",
     "text": [
      "455 µs ± 160 µs per loop (mean ± std. dev. of 10 runs, 10 loops each)\n"
     ]
    }
   ],
   "source": [
    "%%timeit -r 10 -n 10\n",
    "bubble_sort(float_list)"
   ]
  },
  {
   "cell_type": "markdown",
   "id": "df295e34",
   "metadata": {},
   "source": [
    "### Швидкість сортування списку слів"
   ]
  },
  {
   "cell_type": "code",
   "execution_count": 17,
   "id": "3894d5ac",
   "metadata": {},
   "outputs": [
    {
     "name": "stdout",
     "output_type": "stream",
     "text": [
      "521 µs ± 120 µs per loop (mean ± std. dev. of 10 runs, 10 loops each)\n"
     ]
    }
   ],
   "source": [
    "%%timeit -r 10 -n 10\n",
    "bubble_sort(str_list)"
   ]
  }
 ],
 "metadata": {
  "kernelspec": {
   "display_name": "Python 3 (ipykernel)",
   "language": "python",
   "name": "python3"
  },
  "language_info": {
   "codemirror_mode": {
    "name": "ipython",
    "version": 3
   },
   "file_extension": ".py",
   "mimetype": "text/x-python",
   "name": "python",
   "nbconvert_exporter": "python",
   "pygments_lexer": "ipython3",
   "version": "3.10.11"
  }
 },
 "nbformat": 4,
 "nbformat_minor": 5
}
