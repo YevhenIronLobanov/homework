{
 "cells": [
  {
   "cell_type": "code",
   "execution_count": 10,
   "id": "b54dee6c-667a-48ee-8462-a330931c50f4",
   "metadata": {},
   "outputs": [
    {
     "name": "stdout",
     "output_type": "stream",
     "text": [
      "Средняя RMSE с обычным K-Fold: 66.83130563467941\n",
      "Средняя RMSE с перекрестным методом и K-Fold: 75.09819991833838\n"
     ]
    }
   ],
   "source": [
    "import pandas as pd\n",
    "from sklearn.model_selection import KFold, cross_val_score\n",
    "from sklearn.linear_model import LinearRegression\n",
    "from sklearn.metrics import mean_squared_error\n",
    "\n",
    "# Загрузить данные в DataFrame\n",
    "data = pd.read_csv('petrol_consumption.csv')\n",
    "\n",
    "# Разделить данные на признаки (X) и целевую переменную (y)\n",
    "X = data.drop('Petrol_Consumption', axis=1)\n",
    "y = data['Petrol_Consumption']\n",
    "\n",
    "# Создать модель линейной регрессии\n",
    "model = LinearRegression()\n",
    "\n",
    "# Обычный K-Fold\n",
    "kfold = KFold(n_splits=5, shuffle=True, random_state=42)\n",
    "kf_mse_scores = cross_val_score(model, X, y, scoring='neg_mean_squared_error', cv=kfold)\n",
    "kf_rmse_scores = (-kf_mse_scores)**0.5\n",
    "\n",
    "# Перекрестный метод с K-Fold\n",
    "cross_val = cross_val_score(model, X, y, scoring='neg_mean_squared_error', cv=5)\n",
    "cross_val_rmse = (-cross_val)**0.5\n",
    "\n",
    "# Усреднение результатов\n",
    "mean_kf_rmse = kf_rmse_scores.mean()\n",
    "mean_cross_val_rmse = cross_val_rmse.mean()\n",
    "\n",
    "print(\"Средняя RMSE с обычным K-Fold:\", mean_kf_rmse)\n",
    "print(\"Средняя RMSE с перекрестным методом и K-Fold:\", mean_cross_val_rmse)\n",
    "\n",
    "\n"
   ]
  },
  {
   "cell_type": "code",
   "execution_count": null,
   "id": "9f5c4bd0-a1f0-485b-a363-aa329724ffb0",
   "metadata": {},
   "outputs": [],
   "source": []
  }
 ],
 "metadata": {
  "kernelspec": {
   "display_name": "Python 3 (ipykernel)",
   "language": "python",
   "name": "python3"
  },
  "language_info": {
   "codemirror_mode": {
    "name": "ipython",
    "version": 3
   },
   "file_extension": ".py",
   "mimetype": "text/x-python",
   "name": "python",
   "nbconvert_exporter": "python",
   "pygments_lexer": "ipython3",
   "version": "3.10.11"
  }
 },
 "nbformat": 4,
 "nbformat_minor": 5
}
