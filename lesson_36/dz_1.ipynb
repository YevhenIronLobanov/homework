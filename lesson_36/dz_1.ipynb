{
 "cells": [
  {
   "cell_type": "code",
   "execution_count": 4,
   "id": "d606d464-b3d0-4032-ada8-a436ccc05702",
   "metadata": {},
   "outputs": [],
   "source": [
    "import pandas as pd\n",
    "import numpy as np\n",
    "from sklearn.model_selection import KFold, cross_val_score\n",
    "from sklearn import linear_model"
   ]
  },
  {
   "cell_type": "code",
   "execution_count": 5,
   "id": "2c129359-d3df-4d6c-9c44-e82bcd179107",
   "metadata": {},
   "outputs": [
    {
     "data": {
      "text/html": [
       "<div>\n",
       "<style scoped>\n",
       "    .dataframe tbody tr th:only-of-type {\n",
       "        vertical-align: middle;\n",
       "    }\n",
       "\n",
       "    .dataframe tbody tr th {\n",
       "        vertical-align: top;\n",
       "    }\n",
       "\n",
       "    .dataframe thead th {\n",
       "        text-align: right;\n",
       "    }\n",
       "</style>\n",
       "<table border=\"1\" class=\"dataframe\">\n",
       "  <thead>\n",
       "    <tr style=\"text-align: right;\">\n",
       "      <th></th>\n",
       "      <th>Hours</th>\n",
       "      <th>Scores</th>\n",
       "    </tr>\n",
       "  </thead>\n",
       "  <tbody>\n",
       "    <tr>\n",
       "      <th>0</th>\n",
       "      <td>2.5</td>\n",
       "      <td>21</td>\n",
       "    </tr>\n",
       "    <tr>\n",
       "      <th>1</th>\n",
       "      <td>5.1</td>\n",
       "      <td>47</td>\n",
       "    </tr>\n",
       "    <tr>\n",
       "      <th>2</th>\n",
       "      <td>3.2</td>\n",
       "      <td>27</td>\n",
       "    </tr>\n",
       "    <tr>\n",
       "      <th>3</th>\n",
       "      <td>8.5</td>\n",
       "      <td>75</td>\n",
       "    </tr>\n",
       "    <tr>\n",
       "      <th>4</th>\n",
       "      <td>3.5</td>\n",
       "      <td>30</td>\n",
       "    </tr>\n",
       "    <tr>\n",
       "      <th>5</th>\n",
       "      <td>1.5</td>\n",
       "      <td>20</td>\n",
       "    </tr>\n",
       "    <tr>\n",
       "      <th>6</th>\n",
       "      <td>9.2</td>\n",
       "      <td>88</td>\n",
       "    </tr>\n",
       "    <tr>\n",
       "      <th>7</th>\n",
       "      <td>5.5</td>\n",
       "      <td>60</td>\n",
       "    </tr>\n",
       "    <tr>\n",
       "      <th>8</th>\n",
       "      <td>8.3</td>\n",
       "      <td>81</td>\n",
       "    </tr>\n",
       "    <tr>\n",
       "      <th>9</th>\n",
       "      <td>2.7</td>\n",
       "      <td>25</td>\n",
       "    </tr>\n",
       "  </tbody>\n",
       "</table>\n",
       "</div>"
      ],
      "text/plain": [
       "   Hours  Scores\n",
       "0    2.5      21\n",
       "1    5.1      47\n",
       "2    3.2      27\n",
       "3    8.5      75\n",
       "4    3.5      30\n",
       "5    1.5      20\n",
       "6    9.2      88\n",
       "7    5.5      60\n",
       "8    8.3      81\n",
       "9    2.7      25"
      ]
     },
     "execution_count": 5,
     "metadata": {},
     "output_type": "execute_result"
    }
   ],
   "source": [
    "student = pd.read_csv('student_scores.csv')\n",
    "student.head(10)"
   ]
  },
  {
   "cell_type": "code",
   "execution_count": 6,
   "id": "27944f02-2622-45eb-901d-4aac7050b710",
   "metadata": {},
   "outputs": [],
   "source": [
    "# Визначення цільової змінної\n",
    "y = student.Scores"
   ]
  },
  {
   "cell_type": "code",
   "execution_count": 7,
   "id": "c40641fc-e2aa-4393-8d02-e9b5cc082e53",
   "metadata": {},
   "outputs": [],
   "source": [
    "# Видалення цільової змінної y з навчальних даних\n",
    "student.drop(['Scores'], axis = 1, inplace=True)"
   ]
  },
  {
   "cell_type": "code",
   "execution_count": 8,
   "id": "8f3ff189-ae88-488d-a894-526c66748708",
   "metadata": {},
   "outputs": [
    {
     "data": {
      "text/html": [
       "<div>\n",
       "<style scoped>\n",
       "    .dataframe tbody tr th:only-of-type {\n",
       "        vertical-align: middle;\n",
       "    }\n",
       "\n",
       "    .dataframe tbody tr th {\n",
       "        vertical-align: top;\n",
       "    }\n",
       "\n",
       "    .dataframe thead th {\n",
       "        text-align: right;\n",
       "    }\n",
       "</style>\n",
       "<table border=\"1\" class=\"dataframe\">\n",
       "  <thead>\n",
       "    <tr style=\"text-align: right;\">\n",
       "      <th></th>\n",
       "      <th>Hours</th>\n",
       "    </tr>\n",
       "  </thead>\n",
       "  <tbody>\n",
       "    <tr>\n",
       "      <th>0</th>\n",
       "      <td>2.5</td>\n",
       "    </tr>\n",
       "    <tr>\n",
       "      <th>1</th>\n",
       "      <td>5.1</td>\n",
       "    </tr>\n",
       "    <tr>\n",
       "      <th>2</th>\n",
       "      <td>3.2</td>\n",
       "    </tr>\n",
       "    <tr>\n",
       "      <th>3</th>\n",
       "      <td>8.5</td>\n",
       "    </tr>\n",
       "    <tr>\n",
       "      <th>4</th>\n",
       "      <td>3.5</td>\n",
       "    </tr>\n",
       "    <tr>\n",
       "      <th>5</th>\n",
       "      <td>1.5</td>\n",
       "    </tr>\n",
       "    <tr>\n",
       "      <th>6</th>\n",
       "      <td>9.2</td>\n",
       "    </tr>\n",
       "    <tr>\n",
       "      <th>7</th>\n",
       "      <td>5.5</td>\n",
       "    </tr>\n",
       "    <tr>\n",
       "      <th>8</th>\n",
       "      <td>8.3</td>\n",
       "    </tr>\n",
       "    <tr>\n",
       "      <th>9</th>\n",
       "      <td>2.7</td>\n",
       "    </tr>\n",
       "  </tbody>\n",
       "</table>\n",
       "</div>"
      ],
      "text/plain": [
       "   Hours\n",
       "0    2.5\n",
       "1    5.1\n",
       "2    3.2\n",
       "3    8.5\n",
       "4    3.5\n",
       "5    1.5\n",
       "6    9.2\n",
       "7    5.5\n",
       "8    8.3\n",
       "9    2.7"
      ]
     },
     "execution_count": 8,
     "metadata": {},
     "output_type": "execute_result"
    }
   ],
   "source": [
    "# Для уникнення наявності текстових даних створюємо список, який містить імена столбців, що мають числовий тип даних\n",
    "numeric_cols =[cname for cname in student.columns if student[cname].dtype in ['int64', 'float64']]\n",
    "X =student[numeric_cols].copy()\n",
    "X.head(10)"
   ]
  },
  {
   "cell_type": "code",
   "execution_count": 9,
   "id": "cf51d8ec-49f4-4087-a281-84fb42adf34f",
   "metadata": {},
   "outputs": [
    {
     "data": {
      "text/plain": [
       "(25, 1)"
      ]
     },
     "execution_count": 9,
     "metadata": {},
     "output_type": "execute_result"
    }
   ],
   "source": [
    "X.shape"
   ]
  },
  {
   "cell_type": "code",
   "execution_count": 10,
   "id": "02c81454-f0cd-43e6-b54d-3fe2655dfbdb",
   "metadata": {},
   "outputs": [
    {
     "name": "stdout",
     "output_type": "stream",
     "text": [
      "Fold:1, Train set: 20, Test set:5\n",
      "Fold:2, Train set: 20, Test set:5\n",
      "Fold:3, Train set: 20, Test set:5\n",
      "Fold:4, Train set: 20, Test set:5\n",
      "Fold:5, Train set: 20, Test set:5\n"
     ]
    }
   ],
   "source": [
    "# Cтворюємо об'єкт класа KFold\n",
    "kf = KFold(n_splits=5, shuffle=True, random_state=42)\n",
    "cnt = 1\n",
    "for train_index, test_index in kf.split(X,y):\n",
    "      print(f'Fold:{cnt}, Train set: {len(train_index)}, Test set:{len(test_index)}')\n",
    "      cnt += 1\n",
    "    "
   ]
  },
  {
   "cell_type": "code",
   "execution_count": 11,
   "id": "826b52f9-1aee-4a0b-a3df-e00305dc666d",
   "metadata": {},
   "outputs": [],
   "source": [
    "# Виконуємо К -кратну кросс-валідацію \n",
    "score = cross_val_score(linear_model.LinearRegression(), X, y, cv= kf, scoring='r2')"
   ]
  },
  {
   "cell_type": "code",
   "execution_count": 12,
   "id": "b119f154-1849-4450-8b47-70c758311ca4",
   "metadata": {},
   "outputs": [
    {
     "name": "stdout",
     "output_type": "stream",
     "text": [
      "Оцінка по кожному фолду: [0.96780555 0.74949743 0.90881545 0.94043752 0.95414507]\n"
     ]
    }
   ],
   "source": [
    "print('Оцінка по кожному фолду:', score)"
   ]
  },
  {
   "cell_type": "code",
   "execution_count": 13,
   "id": "28ab7552-a93d-4358-976f-f76d87f5d4b3",
   "metadata": {},
   "outputs": [
    {
     "name": "stdout",
     "output_type": "stream",
     "text": [
      "Середня оцінка: 0.9041402050111291\n"
     ]
    }
   ],
   "source": [
    "print('Середня оцінка:', score.mean())"
   ]
  },
  {
   "cell_type": "code",
   "execution_count": 14,
   "id": "b7920f3f-5f9f-46ad-8331-4503b5032b7f",
   "metadata": {},
   "outputs": [],
   "source": [
    "# Розраховуємо корінь від'ємної середньоквадратичної похибки \n",
    "def rmse(score):\n",
    "    rmse = np.sqrt(-score)\n",
    "    print(f'rmse= {\"{:.2f}\".format(rmse)}')"
   ]
  },
  {
   "cell_type": "code",
   "execution_count": 17,
   "id": "15511b36-ad04-47c5-ae8b-c302371eefa6",
   "metadata": {},
   "outputs": [
    {
     "name": "stdout",
     "output_type": "stream",
     "text": [
      "Від'ємна cередньоквадратична похибка по кожному фолду : [-18.94321172 -25.59134275 -65.56533746 -31.60146724 -29.95977935]\n",
      "rmse= 5.86\n"
     ]
    }
   ],
   "source": [
    "score = cross_val_score(linear_model.LinearRegression(), X, y, cv= kf, scoring=\"neg_mean_squared_error\")\n",
    "print(f\"Від'ємна cередньоквадратична похибка по кожному фолду : {score}\")\n",
    "rmse(score.mean())"
   ]
  },
  {
   "cell_type": "code",
   "execution_count": null,
   "id": "c25259f1-62e2-4221-9959-3116d8759a9e",
   "metadata": {},
   "outputs": [],
   "source": []
  },
  {
   "cell_type": "markdown",
   "id": "4267786d-1e5c-4cc3-9da6-9dee6990356e",
   "metadata": {},
   "source": [
    "### *Обгрунтування вибору методу крос-валідації*"
   ]
  },
  {
   "cell_type": "markdown",
   "id": "e9bcc83e-fce2-4a08-8cd0-509fe6ec8e50",
   "metadata": {},
   "source": [
    " *Вибір методу К-кратної крос-валідації зумовлений невеликим об'ємом даних для навчання та оцінки моделі.  \n",
    "     В таких умовах використання методу К-кратної крос-валідації дає нам можливість отримати більш достовірні оцінки продуктивності моделі та уникнути перенавчання нашаої моделі.*\n",
    "     "
   ]
  },
  {
   "cell_type": "code",
   "execution_count": null,
   "id": "56583e28-4fef-4e45-9286-68c24d535052",
   "metadata": {},
   "outputs": [],
   "source": []
  }
 ],
 "metadata": {
  "kernelspec": {
   "display_name": "Python 3 (ipykernel)",
   "language": "python",
   "name": "python3"
  },
  "language_info": {
   "codemirror_mode": {
    "name": "ipython",
    "version": 3
   },
   "file_extension": ".py",
   "mimetype": "text/x-python",
   "name": "python",
   "nbconvert_exporter": "python",
   "pygments_lexer": "ipython3",
   "version": "3.10.11"
  }
 },
 "nbformat": 4,
 "nbformat_minor": 5
}
