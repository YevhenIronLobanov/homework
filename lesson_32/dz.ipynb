{
 "cells": [
  {
   "cell_type": "code",
   "execution_count": 15,
   "id": "dc2b76d9",
   "metadata": {},
   "outputs": [],
   "source": [
    "import pandas as pd\n"
   ]
  },
  {
   "cell_type": "markdown",
   "id": "12ce47c3",
   "metadata": {},
   "source": [
    "### *1. Cтворення DataFrame.*"
   ]
  },
  {
   "cell_type": "code",
   "execution_count": 16,
   "id": "428d748c",
   "metadata": {},
   "outputs": [
    {
     "data": {
      "text/html": [
       "<div>\n",
       "<style scoped>\n",
       "    .dataframe tbody tr th:only-of-type {\n",
       "        vertical-align: middle;\n",
       "    }\n",
       "\n",
       "    .dataframe tbody tr th {\n",
       "        vertical-align: top;\n",
       "    }\n",
       "\n",
       "    .dataframe thead th {\n",
       "        text-align: right;\n",
       "    }\n",
       "</style>\n",
       "<table border=\"1\" class=\"dataframe\">\n",
       "  <thead>\n",
       "    <tr style=\"text-align: right;\">\n",
       "      <th></th>\n",
       "      <th>Ім'я</th>\n",
       "      <th>Прізвище</th>\n",
       "      <th>Середній бал</th>\n",
       "      <th>Оцінка за поточний екзамен</th>\n",
       "      <th>Кількість спроб здачі екзамену</th>\n",
       "    </tr>\n",
       "  </thead>\n",
       "  <tbody>\n",
       "    <tr>\n",
       "      <th>0</th>\n",
       "      <td>Олександр</td>\n",
       "      <td>Ковальчук</td>\n",
       "      <td>3.7</td>\n",
       "      <td>4</td>\n",
       "      <td>1</td>\n",
       "    </tr>\n",
       "    <tr>\n",
       "      <th>1</th>\n",
       "      <td>Ірина</td>\n",
       "      <td>Шевченко</td>\n",
       "      <td>3.0</td>\n",
       "      <td>2</td>\n",
       "      <td>1</td>\n",
       "    </tr>\n",
       "    <tr>\n",
       "      <th>2</th>\n",
       "      <td>Володимир</td>\n",
       "      <td>Петренко</td>\n",
       "      <td>5.0</td>\n",
       "      <td>5</td>\n",
       "      <td>1</td>\n",
       "    </tr>\n",
       "    <tr>\n",
       "      <th>3</th>\n",
       "      <td>Людмила</td>\n",
       "      <td>Коваленко</td>\n",
       "      <td>4.2</td>\n",
       "      <td>3</td>\n",
       "      <td>2</td>\n",
       "    </tr>\n",
       "    <tr>\n",
       "      <th>4</th>\n",
       "      <td>Андрій</td>\n",
       "      <td>Григоренко</td>\n",
       "      <td>4.0</td>\n",
       "      <td>3</td>\n",
       "      <td>1</td>\n",
       "    </tr>\n",
       "    <tr>\n",
       "      <th>5</th>\n",
       "      <td>Ольга</td>\n",
       "      <td>Сидоренко</td>\n",
       "      <td>3.7</td>\n",
       "      <td>5</td>\n",
       "      <td>1</td>\n",
       "    </tr>\n",
       "    <tr>\n",
       "      <th>6</th>\n",
       "      <td>Михайло</td>\n",
       "      <td>Бойко</td>\n",
       "      <td>3.0</td>\n",
       "      <td>2</td>\n",
       "      <td>1</td>\n",
       "    </tr>\n",
       "    <tr>\n",
       "      <th>7</th>\n",
       "      <td>Наталія</td>\n",
       "      <td>Гончарук</td>\n",
       "      <td>4.5</td>\n",
       "      <td>4</td>\n",
       "      <td>1</td>\n",
       "    </tr>\n",
       "    <tr>\n",
       "      <th>8</th>\n",
       "      <td>Юрій</td>\n",
       "      <td>Мельник</td>\n",
       "      <td>4.0</td>\n",
       "      <td>4</td>\n",
       "      <td>2</td>\n",
       "    </tr>\n",
       "    <tr>\n",
       "      <th>9</th>\n",
       "      <td>Тетяна</td>\n",
       "      <td>Романенко</td>\n",
       "      <td>3.3</td>\n",
       "      <td>2</td>\n",
       "      <td>1</td>\n",
       "    </tr>\n",
       "    <tr>\n",
       "      <th>10</th>\n",
       "      <td>Віктор</td>\n",
       "      <td>Волошин</td>\n",
       "      <td>3.6</td>\n",
       "      <td>5</td>\n",
       "      <td>2</td>\n",
       "    </tr>\n",
       "    <tr>\n",
       "      <th>11</th>\n",
       "      <td>Інна</td>\n",
       "      <td>Кравченко</td>\n",
       "      <td>4.1</td>\n",
       "      <td>3</td>\n",
       "      <td>1</td>\n",
       "    </tr>\n",
       "    <tr>\n",
       "      <th>12</th>\n",
       "      <td>Сергій</td>\n",
       "      <td>Лисенко</td>\n",
       "      <td>5.0</td>\n",
       "      <td>4</td>\n",
       "      <td>1</td>\n",
       "    </tr>\n",
       "    <tr>\n",
       "      <th>13</th>\n",
       "      <td>Марія</td>\n",
       "      <td>Шаповаленко</td>\n",
       "      <td>3.2</td>\n",
       "      <td>4</td>\n",
       "      <td>1</td>\n",
       "    </tr>\n",
       "    <tr>\n",
       "      <th>14</th>\n",
       "      <td>Петро</td>\n",
       "      <td>Даниленко</td>\n",
       "      <td>4.4</td>\n",
       "      <td>5</td>\n",
       "      <td>1</td>\n",
       "    </tr>\n",
       "  </tbody>\n",
       "</table>\n",
       "</div>"
      ],
      "text/plain": [
       "         Ім'я     Прізвище  Середній бал  Оцінка за поточний екзамен  \\\n",
       "0   Олександр    Ковальчук           3.7                           4   \n",
       "1       Ірина     Шевченко           3.0                           2   \n",
       "2   Володимир     Петренко           5.0                           5   \n",
       "3     Людмила    Коваленко           4.2                           3   \n",
       "4      Андрій   Григоренко           4.0                           3   \n",
       "5       Ольга    Сидоренко           3.7                           5   \n",
       "6     Михайло        Бойко           3.0                           2   \n",
       "7     Наталія     Гончарук           4.5                           4   \n",
       "8        Юрій      Мельник           4.0                           4   \n",
       "9      Тетяна    Романенко           3.3                           2   \n",
       "10     Віктор      Волошин           3.6                           5   \n",
       "11       Інна    Кравченко           4.1                           3   \n",
       "12     Сергій      Лисенко           5.0                           4   \n",
       "13      Марія  Шаповаленко           3.2                           4   \n",
       "14      Петро    Даниленко           4.4                           5   \n",
       "\n",
       "    Кількість спроб здачі екзамену  \n",
       "0                                1  \n",
       "1                                1  \n",
       "2                                1  \n",
       "3                                2  \n",
       "4                                1  \n",
       "5                                1  \n",
       "6                                1  \n",
       "7                                1  \n",
       "8                                2  \n",
       "9                                1  \n",
       "10                               2  \n",
       "11                               1  \n",
       "12                               1  \n",
       "13                               1  \n",
       "14                               1  "
      ]
     },
     "execution_count": 16,
     "metadata": {},
     "output_type": "execute_result"
    }
   ],
   "source": [
    "df = pd.DataFrame ({\n",
    "    \"Ім'я\": ['Олександр', 'Ірина', 'Володимир', 'Людмила', 'Андрій', 'Ольга', 'Михайло', 'Наталія', 'Юрій', 'Тетяна',\n",
    "                       'Віктор', 'Інна', 'Сергій', 'Марія', 'Петро'],\n",
    "    'Прізвище': ['Ковальчук', 'Шевченко', 'Петренко', 'Коваленко', 'Григоренко','Сидоренко', 'Бойко', 'Гончарук', 'Мельник', \n",
    "                 'Романенко', 'Волошин', 'Кравченко', 'Лисенко', 'Шаповаленко', 'Даниленко'],\n",
    "    'Середній бал': [3.7, 3.0, 5.0, 4.2, 4.0, 3.7, 3.0, 4.5, 4.0, 3.3, 3.6, 4.1, 5.0, 3.2, 4.4],\n",
    "    'Оцінка за поточний екзамен': [4, 2, 5, 3, 3, 5, 2, 4, 4, 2, 5, 3, 4, 4, 5],\n",
    "    'Кількість спроб здачі екзамену': [1, 1, 1, 2, 1, 1, 1, 1, 2, 1, 2, 1, 1, 1, 1],\n",
    "})\n",
    "df"
   ]
  },
  {
   "cell_type": "code",
   "execution_count": 17,
   "id": "39f4212a",
   "metadata": {},
   "outputs": [
    {
     "data": {
      "text/plain": [
       "(15, 5)"
      ]
     },
     "execution_count": 17,
     "metadata": {},
     "output_type": "execute_result"
    }
   ],
   "source": [
    "df.shape"
   ]
  },
  {
   "cell_type": "markdown",
   "id": "4c7a7bc9",
   "metadata": {},
   "source": [
    "### *2. Додавання стовпчика.*"
   ]
  },
  {
   "cell_type": "code",
   "execution_count": 18,
   "id": "c09957d5",
   "metadata": {
    "scrolled": true
   },
   "outputs": [
    {
     "data": {
      "text/html": [
       "<div>\n",
       "<style scoped>\n",
       "    .dataframe tbody tr th:only-of-type {\n",
       "        vertical-align: middle;\n",
       "    }\n",
       "\n",
       "    .dataframe tbody tr th {\n",
       "        vertical-align: top;\n",
       "    }\n",
       "\n",
       "    .dataframe thead th {\n",
       "        text-align: right;\n",
       "    }\n",
       "</style>\n",
       "<table border=\"1\" class=\"dataframe\">\n",
       "  <thead>\n",
       "    <tr style=\"text-align: right;\">\n",
       "      <th></th>\n",
       "      <th>Ім'я</th>\n",
       "      <th>Прізвище</th>\n",
       "      <th>Середній бал</th>\n",
       "      <th>Оцінка за поточний екзамен</th>\n",
       "      <th>Кількість спроб здачі екзамену</th>\n",
       "      <th>Допуск студента на наступний курс</th>\n",
       "    </tr>\n",
       "  </thead>\n",
       "  <tbody>\n",
       "    <tr>\n",
       "      <th>0</th>\n",
       "      <td>Олександр</td>\n",
       "      <td>Ковальчук</td>\n",
       "      <td>3.7</td>\n",
       "      <td>4</td>\n",
       "      <td>1</td>\n",
       "      <td>Допущено</td>\n",
       "    </tr>\n",
       "    <tr>\n",
       "      <th>1</th>\n",
       "      <td>Ірина</td>\n",
       "      <td>Шевченко</td>\n",
       "      <td>3.0</td>\n",
       "      <td>2</td>\n",
       "      <td>1</td>\n",
       "      <td>Недопущено</td>\n",
       "    </tr>\n",
       "    <tr>\n",
       "      <th>2</th>\n",
       "      <td>Володимир</td>\n",
       "      <td>Петренко</td>\n",
       "      <td>5.0</td>\n",
       "      <td>5</td>\n",
       "      <td>1</td>\n",
       "      <td>Допущено</td>\n",
       "    </tr>\n",
       "    <tr>\n",
       "      <th>3</th>\n",
       "      <td>Людмила</td>\n",
       "      <td>Коваленко</td>\n",
       "      <td>4.2</td>\n",
       "      <td>3</td>\n",
       "      <td>2</td>\n",
       "      <td>Допущено</td>\n",
       "    </tr>\n",
       "    <tr>\n",
       "      <th>4</th>\n",
       "      <td>Андрій</td>\n",
       "      <td>Григоренко</td>\n",
       "      <td>4.0</td>\n",
       "      <td>3</td>\n",
       "      <td>1</td>\n",
       "      <td>Допущено</td>\n",
       "    </tr>\n",
       "    <tr>\n",
       "      <th>5</th>\n",
       "      <td>Ольга</td>\n",
       "      <td>Сидоренко</td>\n",
       "      <td>3.7</td>\n",
       "      <td>5</td>\n",
       "      <td>1</td>\n",
       "      <td>Допущено</td>\n",
       "    </tr>\n",
       "    <tr>\n",
       "      <th>6</th>\n",
       "      <td>Михайло</td>\n",
       "      <td>Бойко</td>\n",
       "      <td>3.0</td>\n",
       "      <td>2</td>\n",
       "      <td>1</td>\n",
       "      <td>Недопущено</td>\n",
       "    </tr>\n",
       "    <tr>\n",
       "      <th>7</th>\n",
       "      <td>Наталія</td>\n",
       "      <td>Гончарук</td>\n",
       "      <td>4.5</td>\n",
       "      <td>4</td>\n",
       "      <td>1</td>\n",
       "      <td>Допущено</td>\n",
       "    </tr>\n",
       "    <tr>\n",
       "      <th>8</th>\n",
       "      <td>Юрій</td>\n",
       "      <td>Мельник</td>\n",
       "      <td>4.0</td>\n",
       "      <td>4</td>\n",
       "      <td>2</td>\n",
       "      <td>Допущено</td>\n",
       "    </tr>\n",
       "    <tr>\n",
       "      <th>9</th>\n",
       "      <td>Тетяна</td>\n",
       "      <td>Романенко</td>\n",
       "      <td>3.3</td>\n",
       "      <td>2</td>\n",
       "      <td>1</td>\n",
       "      <td>Недопущено</td>\n",
       "    </tr>\n",
       "    <tr>\n",
       "      <th>10</th>\n",
       "      <td>Віктор</td>\n",
       "      <td>Волошин</td>\n",
       "      <td>3.6</td>\n",
       "      <td>5</td>\n",
       "      <td>2</td>\n",
       "      <td>Допущено</td>\n",
       "    </tr>\n",
       "    <tr>\n",
       "      <th>11</th>\n",
       "      <td>Інна</td>\n",
       "      <td>Кравченко</td>\n",
       "      <td>4.1</td>\n",
       "      <td>3</td>\n",
       "      <td>1</td>\n",
       "      <td>Допущено</td>\n",
       "    </tr>\n",
       "    <tr>\n",
       "      <th>12</th>\n",
       "      <td>Сергій</td>\n",
       "      <td>Лисенко</td>\n",
       "      <td>5.0</td>\n",
       "      <td>4</td>\n",
       "      <td>1</td>\n",
       "      <td>Допущено</td>\n",
       "    </tr>\n",
       "    <tr>\n",
       "      <th>13</th>\n",
       "      <td>Марія</td>\n",
       "      <td>Шаповаленко</td>\n",
       "      <td>3.2</td>\n",
       "      <td>4</td>\n",
       "      <td>1</td>\n",
       "      <td>Допущено</td>\n",
       "    </tr>\n",
       "    <tr>\n",
       "      <th>14</th>\n",
       "      <td>Петро</td>\n",
       "      <td>Даниленко</td>\n",
       "      <td>4.4</td>\n",
       "      <td>5</td>\n",
       "      <td>1</td>\n",
       "      <td>Допущено</td>\n",
       "    </tr>\n",
       "  </tbody>\n",
       "</table>\n",
       "</div>"
      ],
      "text/plain": [
       "         Ім'я     Прізвище  Середній бал  Оцінка за поточний екзамен  \\\n",
       "0   Олександр    Ковальчук           3.7                           4   \n",
       "1       Ірина     Шевченко           3.0                           2   \n",
       "2   Володимир     Петренко           5.0                           5   \n",
       "3     Людмила    Коваленко           4.2                           3   \n",
       "4      Андрій   Григоренко           4.0                           3   \n",
       "5       Ольга    Сидоренко           3.7                           5   \n",
       "6     Михайло        Бойко           3.0                           2   \n",
       "7     Наталія     Гончарук           4.5                           4   \n",
       "8        Юрій      Мельник           4.0                           4   \n",
       "9      Тетяна    Романенко           3.3                           2   \n",
       "10     Віктор      Волошин           3.6                           5   \n",
       "11       Інна    Кравченко           4.1                           3   \n",
       "12     Сергій      Лисенко           5.0                           4   \n",
       "13      Марія  Шаповаленко           3.2                           4   \n",
       "14      Петро    Даниленко           4.4                           5   \n",
       "\n",
       "    Кількість спроб здачі екзамену Допуск студента на наступний курс  \n",
       "0                                1                          Допущено  \n",
       "1                                1                        Недопущено  \n",
       "2                                1                          Допущено  \n",
       "3                                2                          Допущено  \n",
       "4                                1                          Допущено  \n",
       "5                                1                          Допущено  \n",
       "6                                1                        Недопущено  \n",
       "7                                1                          Допущено  \n",
       "8                                2                          Допущено  \n",
       "9                                1                        Недопущено  \n",
       "10                               2                          Допущено  \n",
       "11                               1                          Допущено  \n",
       "12                               1                          Допущено  \n",
       "13                               1                          Допущено  \n",
       "14                               1                          Допущено  "
      ]
     },
     "execution_count": 18,
     "metadata": {},
     "output_type": "execute_result"
    }
   ],
   "source": [
    "df['Допуск студента на наступний курс'] = ['Допущено' if df['Оцінка за поточний екзамен'][r] >= 3 \n",
    "                                          else 'Недопущено' for r in range(len(df))]\n",
    "df"
   ]
  },
  {
   "cell_type": "markdown",
   "id": "c03f1bf8",
   "metadata": {},
   "source": [
    "### *3. Розрахунок мінімального, максимального, середнього показника та медіани по стовпчику 'Середній бал'.*"
   ]
  },
  {
   "cell_type": "code",
   "execution_count": 19,
   "id": "14e24011",
   "metadata": {},
   "outputs": [
    {
     "name": "stdout",
     "output_type": "stream",
     "text": [
      "Мінімальний середній бал: 3.0\n"
     ]
    }
   ],
   "source": [
    "min_score = df['Середній бал'].min()\n",
    "print('Мінімальний середній бал:', round(min_score, 1))\n"
   ]
  },
  {
   "cell_type": "code",
   "execution_count": 20,
   "id": "6a745f63",
   "metadata": {},
   "outputs": [
    {
     "name": "stdout",
     "output_type": "stream",
     "text": [
      "Максимальний середній бал: 5.0\n"
     ]
    }
   ],
   "source": [
    "max_score = df['Середній бал'].max()\n",
    "print('Максимальний середній бал:', round(max_score, 1))"
   ]
  },
  {
   "cell_type": "code",
   "execution_count": 21,
   "id": "9707e329",
   "metadata": {},
   "outputs": [
    {
     "name": "stdout",
     "output_type": "stream",
     "text": [
      "Cереднє значення середнього балу: 3.9\n"
     ]
    }
   ],
   "source": [
    "avg_score = df['Середній бал'].mean()\n",
    "print('Cереднє значення середнього балу:', round(avg_score, 1))"
   ]
  },
  {
   "cell_type": "code",
   "execution_count": 22,
   "id": "f4382d3e",
   "metadata": {},
   "outputs": [
    {
     "name": "stdout",
     "output_type": "stream",
     "text": [
      "Медіана: 4.0\n"
     ]
    }
   ],
   "source": [
    "median_score = df['Середній бал'].median()\n",
    "print ('Медіана:', median_score)"
   ]
  },
  {
   "cell_type": "markdown",
   "id": "ad9a507a",
   "metadata": {},
   "source": [
    "### 4. *Кількість студентів, що здали екзамен з першого разу.*"
   ]
  },
  {
   "cell_type": "code",
   "execution_count": 23,
   "id": "c830071c",
   "metadata": {},
   "outputs": [
    {
     "name": "stdout",
     "output_type": "stream",
     "text": [
      "Кількість студентів, що здали екзамен з першого раза: 9\n"
     ]
    }
   ],
   "source": [
    "first_atempt = 0\n",
    "for i in range(len(df)):\n",
    "    if df['Оцінка за поточний екзамен'][i] > 2 and df['Кількість спроб здачі екзамену'][i] == 1:\n",
    "        first_atempt +=1\n",
    "print ('Кількість студентів, що здали екзамен з першого раза:', first_atempt)"
   ]
  },
  {
   "cell_type": "markdown",
   "id": "1d716966",
   "metadata": {},
   "source": [
    "### *5. Створення серії.*"
   ]
  },
  {
   "cell_type": "code",
   "execution_count": 24,
   "id": "b0e4e0a3",
   "metadata": {
    "scrolled": true
   },
   "outputs": [
    {
     "data": {
      "text/plain": [
       "0     4\n",
       "1     2\n",
       "2     5\n",
       "3     3\n",
       "4     3\n",
       "5     5\n",
       "6     2\n",
       "7     4\n",
       "8     4\n",
       "9     2\n",
       "10    5\n",
       "11    3\n",
       "12    4\n",
       "13    4\n",
       "14    5\n",
       "Name: Оцінка за поточний екзамен, dtype: int64"
      ]
     },
     "execution_count": 24,
     "metadata": {},
     "output_type": "execute_result"
    }
   ],
   "source": [
    "rating = df ['Оцінка за поточний екзамен']\n",
    "rating"
   ]
  },
  {
   "cell_type": "code",
   "execution_count": null,
   "id": "12cd0584",
   "metadata": {},
   "outputs": [],
   "source": []
  }
 ],
 "metadata": {
  "kernelspec": {
   "display_name": "Python 3 (ipykernel)",
   "language": "python",
   "name": "python3"
  },
  "language_info": {
   "codemirror_mode": {
    "name": "ipython",
    "version": 3
   },
   "file_extension": ".py",
   "mimetype": "text/x-python",
   "name": "python",
   "nbconvert_exporter": "python",
   "pygments_lexer": "ipython3",
   "version": "3.10.11"
  }
 },
 "nbformat": 4,
 "nbformat_minor": 5
}
