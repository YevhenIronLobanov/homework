{
 "cells": [
  {
   "cell_type": "code",
   "execution_count": 23,
   "id": "d750b96d-7853-4c97-b4da-2a0b1d1e6e7b",
   "metadata": {},
   "outputs": [],
   "source": [
    "import pandas as pd\n",
    "import numpy as np\n",
    "import scipy\n",
    "import matplotlib.pyplot as plt\n",
    "import seaborn as sns"
   ]
  },
  {
   "cell_type": "code",
   "execution_count": 24,
   "id": "ef9a668e-5bdf-49b0-bd5b-cdb1dbda573a",
   "metadata": {},
   "outputs": [
    {
     "data": {
      "text/html": [
       "<div>\n",
       "<style scoped>\n",
       "    .dataframe tbody tr th:only-of-type {\n",
       "        vertical-align: middle;\n",
       "    }\n",
       "\n",
       "    .dataframe tbody tr th {\n",
       "        vertical-align: top;\n",
       "    }\n",
       "\n",
       "    .dataframe thead th {\n",
       "        text-align: right;\n",
       "    }\n",
       "</style>\n",
       "<table border=\"1\" class=\"dataframe\">\n",
       "  <thead>\n",
       "    <tr style=\"text-align: right;\">\n",
       "      <th></th>\n",
       "      <th>PassengerId</th>\n",
       "      <th>Survived</th>\n",
       "      <th>Pclass</th>\n",
       "      <th>Name</th>\n",
       "      <th>Sex</th>\n",
       "      <th>Age</th>\n",
       "      <th>SibSp</th>\n",
       "      <th>Parch</th>\n",
       "      <th>Ticket</th>\n",
       "      <th>Fare</th>\n",
       "      <th>Cabin</th>\n",
       "      <th>Embarked</th>\n",
       "    </tr>\n",
       "  </thead>\n",
       "  <tbody>\n",
       "    <tr>\n",
       "      <th>0</th>\n",
       "      <td>1</td>\n",
       "      <td>0</td>\n",
       "      <td>3</td>\n",
       "      <td>Braund, Mr. Owen Harris</td>\n",
       "      <td>male</td>\n",
       "      <td>22.0</td>\n",
       "      <td>1</td>\n",
       "      <td>0</td>\n",
       "      <td>A/5 21171</td>\n",
       "      <td>7.2500</td>\n",
       "      <td>NaN</td>\n",
       "      <td>S</td>\n",
       "    </tr>\n",
       "    <tr>\n",
       "      <th>1</th>\n",
       "      <td>2</td>\n",
       "      <td>1</td>\n",
       "      <td>1</td>\n",
       "      <td>Cumings, Mrs. John Bradley (Florence Briggs Th...</td>\n",
       "      <td>female</td>\n",
       "      <td>38.0</td>\n",
       "      <td>1</td>\n",
       "      <td>0</td>\n",
       "      <td>PC 17599</td>\n",
       "      <td>71.2833</td>\n",
       "      <td>C85</td>\n",
       "      <td>C</td>\n",
       "    </tr>\n",
       "    <tr>\n",
       "      <th>2</th>\n",
       "      <td>3</td>\n",
       "      <td>1</td>\n",
       "      <td>3</td>\n",
       "      <td>Heikkinen, Miss. Laina</td>\n",
       "      <td>female</td>\n",
       "      <td>26.0</td>\n",
       "      <td>0</td>\n",
       "      <td>0</td>\n",
       "      <td>STON/O2. 3101282</td>\n",
       "      <td>7.9250</td>\n",
       "      <td>NaN</td>\n",
       "      <td>S</td>\n",
       "    </tr>\n",
       "    <tr>\n",
       "      <th>3</th>\n",
       "      <td>4</td>\n",
       "      <td>1</td>\n",
       "      <td>1</td>\n",
       "      <td>Futrelle, Mrs. Jacques Heath (Lily May Peel)</td>\n",
       "      <td>female</td>\n",
       "      <td>35.0</td>\n",
       "      <td>1</td>\n",
       "      <td>0</td>\n",
       "      <td>113803</td>\n",
       "      <td>53.1000</td>\n",
       "      <td>C123</td>\n",
       "      <td>S</td>\n",
       "    </tr>\n",
       "    <tr>\n",
       "      <th>4</th>\n",
       "      <td>5</td>\n",
       "      <td>0</td>\n",
       "      <td>3</td>\n",
       "      <td>Allen, Mr. William Henry</td>\n",
       "      <td>male</td>\n",
       "      <td>35.0</td>\n",
       "      <td>0</td>\n",
       "      <td>0</td>\n",
       "      <td>373450</td>\n",
       "      <td>8.0500</td>\n",
       "      <td>NaN</td>\n",
       "      <td>S</td>\n",
       "    </tr>\n",
       "    <tr>\n",
       "      <th>...</th>\n",
       "      <td>...</td>\n",
       "      <td>...</td>\n",
       "      <td>...</td>\n",
       "      <td>...</td>\n",
       "      <td>...</td>\n",
       "      <td>...</td>\n",
       "      <td>...</td>\n",
       "      <td>...</td>\n",
       "      <td>...</td>\n",
       "      <td>...</td>\n",
       "      <td>...</td>\n",
       "      <td>...</td>\n",
       "    </tr>\n",
       "    <tr>\n",
       "      <th>886</th>\n",
       "      <td>887</td>\n",
       "      <td>0</td>\n",
       "      <td>2</td>\n",
       "      <td>Montvila, Rev. Juozas</td>\n",
       "      <td>male</td>\n",
       "      <td>27.0</td>\n",
       "      <td>0</td>\n",
       "      <td>0</td>\n",
       "      <td>211536</td>\n",
       "      <td>13.0000</td>\n",
       "      <td>NaN</td>\n",
       "      <td>S</td>\n",
       "    </tr>\n",
       "    <tr>\n",
       "      <th>887</th>\n",
       "      <td>888</td>\n",
       "      <td>1</td>\n",
       "      <td>1</td>\n",
       "      <td>Graham, Miss. Margaret Edith</td>\n",
       "      <td>female</td>\n",
       "      <td>19.0</td>\n",
       "      <td>0</td>\n",
       "      <td>0</td>\n",
       "      <td>112053</td>\n",
       "      <td>30.0000</td>\n",
       "      <td>B42</td>\n",
       "      <td>S</td>\n",
       "    </tr>\n",
       "    <tr>\n",
       "      <th>888</th>\n",
       "      <td>889</td>\n",
       "      <td>0</td>\n",
       "      <td>3</td>\n",
       "      <td>Johnston, Miss. Catherine Helen \"Carrie\"</td>\n",
       "      <td>female</td>\n",
       "      <td>NaN</td>\n",
       "      <td>1</td>\n",
       "      <td>2</td>\n",
       "      <td>W./C. 6607</td>\n",
       "      <td>23.4500</td>\n",
       "      <td>NaN</td>\n",
       "      <td>S</td>\n",
       "    </tr>\n",
       "    <tr>\n",
       "      <th>889</th>\n",
       "      <td>890</td>\n",
       "      <td>1</td>\n",
       "      <td>1</td>\n",
       "      <td>Behr, Mr. Karl Howell</td>\n",
       "      <td>male</td>\n",
       "      <td>26.0</td>\n",
       "      <td>0</td>\n",
       "      <td>0</td>\n",
       "      <td>111369</td>\n",
       "      <td>30.0000</td>\n",
       "      <td>C148</td>\n",
       "      <td>C</td>\n",
       "    </tr>\n",
       "    <tr>\n",
       "      <th>890</th>\n",
       "      <td>891</td>\n",
       "      <td>0</td>\n",
       "      <td>3</td>\n",
       "      <td>Dooley, Mr. Patrick</td>\n",
       "      <td>male</td>\n",
       "      <td>32.0</td>\n",
       "      <td>0</td>\n",
       "      <td>0</td>\n",
       "      <td>370376</td>\n",
       "      <td>7.7500</td>\n",
       "      <td>NaN</td>\n",
       "      <td>Q</td>\n",
       "    </tr>\n",
       "  </tbody>\n",
       "</table>\n",
       "<p>891 rows × 12 columns</p>\n",
       "</div>"
      ],
      "text/plain": [
       "     PassengerId  Survived  Pclass  \\\n",
       "0              1         0       3   \n",
       "1              2         1       1   \n",
       "2              3         1       3   \n",
       "3              4         1       1   \n",
       "4              5         0       3   \n",
       "..           ...       ...     ...   \n",
       "886          887         0       2   \n",
       "887          888         1       1   \n",
       "888          889         0       3   \n",
       "889          890         1       1   \n",
       "890          891         0       3   \n",
       "\n",
       "                                                  Name     Sex   Age  SibSp  \\\n",
       "0                              Braund, Mr. Owen Harris    male  22.0      1   \n",
       "1    Cumings, Mrs. John Bradley (Florence Briggs Th...  female  38.0      1   \n",
       "2                               Heikkinen, Miss. Laina  female  26.0      0   \n",
       "3         Futrelle, Mrs. Jacques Heath (Lily May Peel)  female  35.0      1   \n",
       "4                             Allen, Mr. William Henry    male  35.0      0   \n",
       "..                                                 ...     ...   ...    ...   \n",
       "886                              Montvila, Rev. Juozas    male  27.0      0   \n",
       "887                       Graham, Miss. Margaret Edith  female  19.0      0   \n",
       "888           Johnston, Miss. Catherine Helen \"Carrie\"  female   NaN      1   \n",
       "889                              Behr, Mr. Karl Howell    male  26.0      0   \n",
       "890                                Dooley, Mr. Patrick    male  32.0      0   \n",
       "\n",
       "     Parch            Ticket     Fare Cabin Embarked  \n",
       "0        0         A/5 21171   7.2500   NaN        S  \n",
       "1        0          PC 17599  71.2833   C85        C  \n",
       "2        0  STON/O2. 3101282   7.9250   NaN        S  \n",
       "3        0            113803  53.1000  C123        S  \n",
       "4        0            373450   8.0500   NaN        S  \n",
       "..     ...               ...      ...   ...      ...  \n",
       "886      0            211536  13.0000   NaN        S  \n",
       "887      0            112053  30.0000   B42        S  \n",
       "888      2        W./C. 6607  23.4500   NaN        S  \n",
       "889      0            111369  30.0000  C148        C  \n",
       "890      0            370376   7.7500   NaN        Q  \n",
       "\n",
       "[891 rows x 12 columns]"
      ]
     },
     "execution_count": 24,
     "metadata": {},
     "output_type": "execute_result"
    }
   ],
   "source": [
    "data = pd.read_csv('train.csv')\n",
    "data"
   ]
  },
  {
   "cell_type": "code",
   "execution_count": 25,
   "id": "35266b6b-31cb-4720-a3c0-ebd1ce788323",
   "metadata": {},
   "outputs": [],
   "source": [
    "# Видаляємо значення NaN\n",
    "data_new = data.dropna(subset=['Age'])"
   ]
  },
  {
   "cell_type": "markdown",
   "id": "e17845a6-c3fc-498f-97e2-50d3f68f59d4",
   "metadata": {},
   "source": [
    "## Побудова діаграми нормального розподілу "
   ]
  },
  {
   "cell_type": "code",
   "execution_count": 26,
   "id": "f1544f41-e37e-4b21-a1d4-326a8b45dd82",
   "metadata": {},
   "outputs": [],
   "source": [
    "from scipy.stats import norm"
   ]
  },
  {
   "cell_type": "code",
   "execution_count": 27,
   "id": "dfcd9d98-bd37-4176-82b2-6a7921f6926b",
   "metadata": {},
   "outputs": [
    {
     "name": "stdout",
     "output_type": "stream",
     "text": [
      "mu = 29.69911764705882 sigma = 14.516321150817316\n"
     ]
    }
   ],
   "source": [
    "# Встановлюємо параметр кількості інтервалів, а також визначаємо параметри середнього (мат.очікування) нормального розподілу та \n",
    "#стандартного відхилення\n",
    "num_interv = 20\n",
    "mu, sigma = norm.fit(data_new['Age'])\n",
    "print('mu =', mu, 'sigma =', sigma)"
   ]
  },
  {
   "cell_type": "markdown",
   "id": "834a49bf-0004-4955-aa2d-4025e117fafe",
   "metadata": {},
   "source": [
    "#### *Побудова діаграми*"
   ]
  },
  {
   "cell_type": "code",
   "execution_count": 28,
   "id": "34ca0036-6c1e-4717-982f-85f1285a7fda",
   "metadata": {},
   "outputs": [
    {
     "data": {
      "text/plain": [
       "Text(0, 0.5, 'Густина(щільність) розподілу')"
      ]
     },
     "execution_count": 28,
     "metadata": {},
     "output_type": "execute_result"
    },
    {
     "data": {
      "image/png": "[encoded data removed]",
      "text/plain": [
       "<Figure size 640x480 with 1 Axes>"
      ]
     },
     "metadata": {},
     "output_type": "display_data"
    }
   ],
   "source": [
    "#Будуємо гістограму\n",
    "plt.hist(data_new['Age'], bins=num_interv, density=True, alpha= 0.8, color = 'b')\n",
    "#Будуємо графік нормального розподілу\n",
    "xmin, xmax = plt.xlim() \n",
    "x = np.linspace(xmin, xmax, 100)   # створюємо масив значень х рівновірно розподілених між xmin та xmax\n",
    "p = norm.pdf(x, mu, sigma)  # розраховуємо значення густини ймовірності нормального розподілу для кожного значення x\n",
    "plt.plot(x, p, 'g', linewidth=2)\n",
    "\n",
    "plt.title('Розподіл за віком та крива нормального розподілу')\n",
    "plt.xlabel('Вік')\n",
    "plt.ylabel('Густина(щільність) розподілу')\n"
   ]
  },
  {
   "cell_type": "markdown",
   "id": "068b4f1d-bf36-4388-99b2-80e3c6709c77",
   "metadata": {},
   "source": [
    "#### *Оскільки біномінальний розподіл використовується для випадкових дискретних величин, пов'язаних з кількістю успіхів у фіксованому числі незалежних бінарних експериментів, а стовпець 'Age' є безперервною випадковою величиною, тому застосування біномінального розподілу тут не має сенсу. Аналогічна ситуація виникає і щодо розподілу Пуассона оскільки це дискретний розподіл для цілих невід'ємних чисел. Таким чином таке наближення може бути не дуже точним і може не мати практичної значущості*"
   ]
  },
  {
   "cell_type": "markdown",
   "id": "62c29493-9a84-4ddc-a9bb-801fa011aa51",
   "metadata": {},
   "source": [
    "### Побудова діаграми біномінального розподілу "
   ]
  },
  {
   "cell_type": "code",
   "execution_count": 31,
   "id": "8f4c55ba-547c-4c48-9ec1-1777ec5727eb",
   "metadata": {},
   "outputs": [],
   "source": [
    "from scipy.stats import binom"
   ]
  },
  {
   "cell_type": "code",
   "execution_count": 33,
   "id": "9f3e954a-2bb2-4ba1-9c3c-d72a59b47422",
   "metadata": {},
   "outputs": [],
   "source": [
    "# Створюємо біномыальний розподіл з параметрами, на основі  даних віку\n",
    "n = len(data)  # Загальна кількість спостережень\n",
    "p = 0.5  # Значення ймовірності позитивного результату\n",
    "data_binom = binom.rvs(n=n, p=p, loc=0, size= 500)\n"
   ]
  },
  {
   "cell_type": "code",
   "execution_count": 37,
   "id": "fb5b99df-8462-42b3-b263-411fc351dc00",
   "metadata": {},
   "outputs": [
    {
     "data": {
      "image/png": "[encoded data removed]",
      "text/plain": [
       "<Figure size 1000x600 with 1 Axes>"
      ]
     },
     "metadata": {},
     "output_type": "display_data"
    }
   ],
   "source": [
    "# Створюємо графік біноміальних даних\n",
    "plt.figure(figsize=(10, 6))\n",
    "sns.histplot(data_binom, kde=True, color='blue', bins=20)\n",
    "plt.xlabel('Біноміальний розподіл')\n",
    "plt.ylabel('Частота')\n",
    "plt.title('Біноміальний розподіл вікових даних')\n",
    "plt.show()"
   ]
  },
  {
   "cell_type": "markdown",
   "id": "4de47825-3144-4fab-80b9-71a3b577d4b5",
   "metadata": {},
   "source": [
    "\n",
    "### Побудова діаграми розподілу  Пуассона"
   ]
  },
  {
   "cell_type": "code",
   "execution_count": 43,
   "id": "74f9caaf-c2f1-4d8a-9cd5-25d157831cf7",
   "metadata": {},
   "outputs": [
    {
     "data": {
      "image/png": "[encoded data removed]",
      "text/plain": [
       "<Figure size 1000x600 with 1 Axes>"
      ]
     },
     "metadata": {},
     "output_type": "display_data"
    }
   ],
   "source": [
    "from scipy.stats import poisson\n",
    "# Створюємо розподіл Пуассона на основі характеристик віку\n",
    "poisson_dist = poisson(mu=mu)\n",
    "\n",
    "# Генеруємо дані із розподілу Пуассона\n",
    "data_poisson = poisson_dist.rvs(size=len(data))\n",
    "\n",
    "# Будуємо діаграму розподілу Пуассон\n",
    "plt.figure(figsize=(10, 6))\n",
    "sns.histplot(data_poisson, kde=True, color='green')\n",
    "plt.xlabel('Розподіл Пуассона')\n",
    "plt.ylabel('Частота')\n",
    "plt.title('Розподіл Пуассона за віковими характеристиками')\n",
    "plt.show()\n",
    "\n"
   ]
  },
  {
   "cell_type": "markdown",
   "id": "ab91bee2-2ed4-4965-95e3-fa3d04275301",
   "metadata": {},
   "source": [
    "## Заповнення пропущенних значень"
   ]
  },
  {
   "cell_type": "code",
   "execution_count": 47,
   "id": "d800d819-1132-4e28-b189-f472a3ddb6f3",
   "metadata": {},
   "outputs": [
    {
     "data": {
      "text/html": [
       "<div>\n",
       "<style scoped>\n",
       "    .dataframe tbody tr th:only-of-type {\n",
       "        vertical-align: middle;\n",
       "    }\n",
       "\n",
       "    .dataframe tbody tr th {\n",
       "        vertical-align: top;\n",
       "    }\n",
       "\n",
       "    .dataframe thead th {\n",
       "        text-align: right;\n",
       "    }\n",
       "</style>\n",
       "<table border=\"1\" class=\"dataframe\">\n",
       "  <thead>\n",
       "    <tr style=\"text-align: right;\">\n",
       "      <th></th>\n",
       "      <th>PassengerId</th>\n",
       "      <th>Survived</th>\n",
       "      <th>Pclass</th>\n",
       "      <th>Name</th>\n",
       "      <th>Sex</th>\n",
       "      <th>Age</th>\n",
       "      <th>SibSp</th>\n",
       "      <th>Parch</th>\n",
       "      <th>Ticket</th>\n",
       "      <th>Fare</th>\n",
       "      <th>Cabin</th>\n",
       "      <th>Embarked</th>\n",
       "    </tr>\n",
       "  </thead>\n",
       "  <tbody>\n",
       "    <tr>\n",
       "      <th>0</th>\n",
       "      <td>1</td>\n",
       "      <td>0</td>\n",
       "      <td>3</td>\n",
       "      <td>Braund, Mr. Owen Harris</td>\n",
       "      <td>male</td>\n",
       "      <td>22.0</td>\n",
       "      <td>1</td>\n",
       "      <td>0</td>\n",
       "      <td>A/5 21171</td>\n",
       "      <td>7.2500</td>\n",
       "      <td>NaN</td>\n",
       "      <td>S</td>\n",
       "    </tr>\n",
       "    <tr>\n",
       "      <th>1</th>\n",
       "      <td>2</td>\n",
       "      <td>1</td>\n",
       "      <td>1</td>\n",
       "      <td>Cumings, Mrs. John Bradley (Florence Briggs Th...</td>\n",
       "      <td>female</td>\n",
       "      <td>38.0</td>\n",
       "      <td>1</td>\n",
       "      <td>0</td>\n",
       "      <td>PC 17599</td>\n",
       "      <td>71.2833</td>\n",
       "      <td>C85</td>\n",
       "      <td>C</td>\n",
       "    </tr>\n",
       "    <tr>\n",
       "      <th>2</th>\n",
       "      <td>3</td>\n",
       "      <td>1</td>\n",
       "      <td>3</td>\n",
       "      <td>Heikkinen, Miss. Laina</td>\n",
       "      <td>female</td>\n",
       "      <td>26.0</td>\n",
       "      <td>0</td>\n",
       "      <td>0</td>\n",
       "      <td>STON/O2. 3101282</td>\n",
       "      <td>7.9250</td>\n",
       "      <td>NaN</td>\n",
       "      <td>S</td>\n",
       "    </tr>\n",
       "    <tr>\n",
       "      <th>3</th>\n",
       "      <td>4</td>\n",
       "      <td>1</td>\n",
       "      <td>1</td>\n",
       "      <td>Futrelle, Mrs. Jacques Heath (Lily May Peel)</td>\n",
       "      <td>female</td>\n",
       "      <td>35.0</td>\n",
       "      <td>1</td>\n",
       "      <td>0</td>\n",
       "      <td>113803</td>\n",
       "      <td>53.1000</td>\n",
       "      <td>C123</td>\n",
       "      <td>S</td>\n",
       "    </tr>\n",
       "    <tr>\n",
       "      <th>4</th>\n",
       "      <td>5</td>\n",
       "      <td>0</td>\n",
       "      <td>3</td>\n",
       "      <td>Allen, Mr. William Henry</td>\n",
       "      <td>male</td>\n",
       "      <td>35.0</td>\n",
       "      <td>0</td>\n",
       "      <td>0</td>\n",
       "      <td>373450</td>\n",
       "      <td>8.0500</td>\n",
       "      <td>NaN</td>\n",
       "      <td>S</td>\n",
       "    </tr>\n",
       "  </tbody>\n",
       "</table>\n",
       "</div>"
      ],
      "text/plain": [
       "   PassengerId  Survived  Pclass  \\\n",
       "0            1         0       3   \n",
       "1            2         1       1   \n",
       "2            3         1       3   \n",
       "3            4         1       1   \n",
       "4            5         0       3   \n",
       "\n",
       "                                                Name     Sex   Age  SibSp  \\\n",
       "0                            Braund, Mr. Owen Harris    male  22.0      1   \n",
       "1  Cumings, Mrs. John Bradley (Florence Briggs Th...  female  38.0      1   \n",
       "2                             Heikkinen, Miss. Laina  female  26.0      0   \n",
       "3       Futrelle, Mrs. Jacques Heath (Lily May Peel)  female  35.0      1   \n",
       "4                           Allen, Mr. William Henry    male  35.0      0   \n",
       "\n",
       "   Parch            Ticket     Fare Cabin Embarked  \n",
       "0      0         A/5 21171   7.2500   NaN        S  \n",
       "1      0          PC 17599  71.2833   C85        C  \n",
       "2      0  STON/O2. 3101282   7.9250   NaN        S  \n",
       "3      0            113803  53.1000  C123        S  \n",
       "4      0            373450   8.0500   NaN        S  "
      ]
     },
     "execution_count": 47,
     "metadata": {},
     "output_type": "execute_result"
    }
   ],
   "source": [
    "train = pd.read_csv('train.csv')\n",
    "train.head()"
   ]
  },
  {
   "cell_type": "code",
   "execution_count": 48,
   "id": "479a836e-d15b-4210-9931-c07a00127b6c",
   "metadata": {},
   "outputs": [
    {
     "data": {
      "text/plain": [
       "PassengerId      0\n",
       "Survived         0\n",
       "Pclass           0\n",
       "Name             0\n",
       "Sex              0\n",
       "Age            177\n",
       "SibSp            0\n",
       "Parch            0\n",
       "Ticket           0\n",
       "Fare             0\n",
       "Cabin          687\n",
       "Embarked         2\n",
       "dtype: int64"
      ]
     },
     "execution_count": 48,
     "metadata": {},
     "output_type": "execute_result"
    }
   ],
   "source": [
    "# Пошук пропущених значень у всьому датасеті\n",
    "missing_values = train.isnull().sum()\n",
    "missing_values "
   ]
  },
  {
   "cell_type": "markdown",
   "id": "5f507823-c676-4e2c-aad1-85ee18ada31b",
   "metadata": {},
   "source": [
    "#### *Заповнення пропущених значень стовпчика 'Age'*"
   ]
  },
  {
   "cell_type": "code",
   "execution_count": 58,
   "id": "57872aa8-a4fe-45ab-a494-750bb185c0a9",
   "metadata": {},
   "outputs": [],
   "source": [
    "# Обчислюємо середній вік для чоловіків та жінок\n",
    "mean_age_male = train[train['Sex'] == 'male']['Age'].mean()\n",
    "mean_age_female = train[train['Sex'] == 'female']['Age'].mean()\n",
    "\n",
    "# Створюємо нову колонку 'New_Age' та заповнюємо пропущені значення виходячи зі статі\n",
    "train['New_Age'] = np.where(train['Sex'] == 'male', mean_age_male, mean_age_female)\n",
    "\n",
    "# Замінюємо пропущені значення віку на значення з 'New_Age' та видаляємо тимчасову колонку\n",
    "train['Age'].fillna(train['New_Age'], inplace=True)\n",
    "train.drop(columns=['New_Age'], inplace=True)\n"
   ]
  },
  {
   "cell_type": "code",
   "execution_count": 59,
   "id": "f1e18fcd-a074-4d02-bf44-77d83ac44e38",
   "metadata": {},
   "outputs": [
    {
     "data": {
      "text/plain": [
       "PassengerId    0\n",
       "Survived       0\n",
       "Pclass         0\n",
       "Name           0\n",
       "Sex            0\n",
       "Age            0\n",
       "SibSp          0\n",
       "Parch          0\n",
       "Ticket         0\n",
       "Fare           0\n",
       "Cabin          0\n",
       "Embarked       2\n",
       "dtype: int64"
      ]
     },
     "execution_count": 59,
     "metadata": {},
     "output_type": "execute_result"
    }
   ],
   "source": [
    "# Перевірка заповнення даних\n",
    "missing_values = train.isnull().sum()\n",
    "missing_values "
   ]
  },
  {
   "cell_type": "markdown",
   "id": "c422af16-603f-4901-a57e-9cfb62d17561",
   "metadata": {},
   "source": [
    "#### *Заповнення пропущених значень стовпчика ' Cabin'*"
   ]
  },
  {
   "cell_type": "code",
   "execution_count": 60,
   "id": "7fba9ca5-dd35-498c-8d65-472335a66ba2",
   "metadata": {},
   "outputs": [],
   "source": [
    "# Створюємо словник із середніми номерами кают для кожного класу квитка\n",
    "avg_cabin_by_pclass = {}\n",
    "for pclass in train['Pclass'].unique():\n",
    "    avg_cabin = train[train['Pclass'] == pclass]['Cabin'].mode().values[0]\n",
    "    avg_cabin_by_pclass[pclass] = avg_cabin"
   ]
  },
  {
   "cell_type": "code",
   "execution_count": 61,
   "id": "9cfe2d1f-3958-4950-ad91-352a5bb6d20e",
   "metadata": {},
   "outputs": [],
   "source": [
    "# Створюємо нову колонку 'New_Cabin' та заповнюємо пропущені значення, а потім замінюємо пропущені значення  та видаляємо тимчасову колонку\n",
    "train['New_Cabin'] = np.where(train['Cabin'].isnull(), train['Pclass'].map(avg_cabin_by_pclass), train['Cabin'])\n",
    "train['Cabin'] = train['New_Cabin']\n",
    "train.drop(columns=['New_Cabin'], inplace=True)"
   ]
  },
  {
   "cell_type": "code",
   "execution_count": 62,
   "id": "9cbcf0e4-014c-4c14-873b-a96f93792da2",
   "metadata": {},
   "outputs": [
    {
     "data": {
      "text/plain": [
       "PassengerId    0\n",
       "Survived       0\n",
       "Pclass         0\n",
       "Name           0\n",
       "Sex            0\n",
       "Age            0\n",
       "SibSp          0\n",
       "Parch          0\n",
       "Ticket         0\n",
       "Fare           0\n",
       "Cabin          0\n",
       "Embarked       2\n",
       "dtype: int64"
      ]
     },
     "execution_count": 62,
     "metadata": {},
     "output_type": "execute_result"
    }
   ],
   "source": [
    "# Перевірка заповнення даних\n",
    "missing_values = train.isnull().sum()\n",
    "missing_values "
   ]
  },
  {
   "cell_type": "markdown",
   "id": "98870f62-a01b-4a11-ab61-eb417635d4b6",
   "metadata": {},
   "source": [
    "#### *Обгрунтування обраного методу: Використання методу введення нового показника на основі виявленої залежності між даними зумовлене тим, що  заповнення пропущених значень наприклад віку, засноване на статі пасажирів, що має логічне пояснення та може бути більш точним ніж наприклад  заповнення середнім значенням*"
   ]
  },
  {
   "cell_type": "markdown",
   "id": "2558334d-6046-438c-9f02-7c49b69b1bc3",
   "metadata": {},
   "source": [
    "#### *Заповнення пропущених значень стовпчика ' Embarked'*"
   ]
  },
  {
   "cell_type": "code",
   "execution_count": 64,
   "id": "9838b252-71d6-4e6e-aa87-2e0dd80b61e5",
   "metadata": {},
   "outputs": [
    {
     "data": {
      "text/plain": [
       "'S'"
      ]
     },
     "execution_count": 64,
     "metadata": {},
     "output_type": "execute_result"
    }
   ],
   "source": [
    "# Обчислюємо значення, що найчастіше зустрічається в стовпчику 'Embarked'\n",
    "most_part = train['Embarked'].mode().values[0]\n",
    "most_part\n"
   ]
  },
  {
   "cell_type": "code",
   "execution_count": 65,
   "id": "b29cd088-666b-47e4-b7a4-339570d9c263",
   "metadata": {},
   "outputs": [],
   "source": [
    "# Заповнюємо пропущені значення в стовпчику'Embarked' \n",
    "train['Embarked'].fillna(most_part, inplace=True)"
   ]
  },
  {
   "cell_type": "code",
   "execution_count": 66,
   "id": "63581d89-dcf1-4630-bf99-876a29ec44e2",
   "metadata": {},
   "outputs": [
    {
     "data": {
      "text/plain": [
       "PassengerId    0\n",
       "Survived       0\n",
       "Pclass         0\n",
       "Name           0\n",
       "Sex            0\n",
       "Age            0\n",
       "SibSp          0\n",
       "Parch          0\n",
       "Ticket         0\n",
       "Fare           0\n",
       "Cabin          0\n",
       "Embarked       0\n",
       "dtype: int64"
      ]
     },
     "execution_count": 66,
     "metadata": {},
     "output_type": "execute_result"
    }
   ],
   "source": [
    "# Перевірка заповнення даних\n",
    "missing_values = train.isnull().sum()\n",
    "missing_values "
   ]
  },
  {
   "cell_type": "markdown",
   "id": "f35eef6a-f2ee-4495-9dc6-5a2bb97f1f5a",
   "metadata": {},
   "source": [
    "#### *Обгрунтування обраного методу: Використання методу заміни відсутнього значення значенням, яке найчастіше зустрічається у конкретному стовпчику зумовлене його простотою, а також тим, що дані в ствопчику 'Embarked' є категоріальною ознакою.*\r\n"
   ]
  }
 ],
 "metadata": {
  "kernelspec": {
   "display_name": "Python 3 (ipykernel)",
   "language": "python",
   "name": "python3"
  },
  "language_info": {
   "codemirror_mode": {
    "name": "ipython",
    "version": 3
   },
   "file_extension": ".py",
   "mimetype": "text/x-python",
   "name": "python",
   "nbconvert_exporter": "python",
   "pygments_lexer": "ipython3",
   "version": "3.10.11"
  }
 },
 "nbformat": 4,
 "nbformat_minor": 5
}
