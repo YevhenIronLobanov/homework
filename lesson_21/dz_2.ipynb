{
 "cells": [
  {
   "cell_type": "code",
   "execution_count": 2,
   "id": "93a88d1f",
   "metadata": {},
   "outputs": [],
   "source": [
    "import numpy as np"
   ]
  },
  {
   "cell_type": "code",
   "execution_count": 3,
   "id": "511d6c77",
   "metadata": {},
   "outputs": [
    {
     "name": "stdout",
     "output_type": "stream",
     "text": [
      "[[ 4  2  0]\n",
      " [ 1  3  2]\n",
      " [-1  3 10]]\n"
     ]
    }
   ],
   "source": [
    "A = np.array([[4, 2, 0], [1, 3, 2], [-1, 3, 10]])\n",
    "print (A)"
   ]
  },
  {
   "cell_type": "code",
   "execution_count": 4,
   "id": "0b38ace1",
   "metadata": {},
   "outputs": [
    {
     "name": "stdout",
     "output_type": "stream",
     "text": [
      "[[ 1  3  2]\n",
      " [ 4  2  0]\n",
      " [-1  3 10]]\n"
     ]
    }
   ],
   "source": [
    "A[[0, 1], :] = A[[1, 0], :]\n",
    "print(A)"
   ]
  },
  {
   "cell_type": "code",
   "execution_count": 5,
   "id": "50301f9c",
   "metadata": {},
   "outputs": [
    {
     "name": "stdout",
     "output_type": "stream",
     "text": [
      "[[  1   3   2]\n",
      " [  0 -10  -8]\n",
      " [  0   6  12]]\n"
     ]
    }
   ],
   "source": [
    "A[1]= A[1]+(-4)*A[0]\n",
    "A[2] = A[2] + A[0]\n",
    "print(A)"
   ]
  },
  {
   "cell_type": "code",
   "execution_count": 6,
   "id": "7afee898",
   "metadata": {},
   "outputs": [
    {
     "name": "stdout",
     "output_type": "stream",
     "text": [
      "[[1 3 2]\n",
      " [0 5 4]\n",
      " [0 1 2]]\n"
     ]
    }
   ],
   "source": [
    "A[1]= A[1]/(-2)\n",
    "A[2] = A[2]/6\n",
    "print(A)"
   ]
  },
  {
   "cell_type": "code",
   "execution_count": 7,
   "id": "d357f4b7",
   "metadata": {},
   "outputs": [
    {
     "name": "stdout",
     "output_type": "stream",
     "text": [
      "[[1 3 2]\n",
      " [0 1 2]\n",
      " [0 5 4]]\n"
     ]
    }
   ],
   "source": [
    "A[[1, 2], :]=A[[2, 1], :]\n",
    "print(A)"
   ]
  },
  {
   "cell_type": "code",
   "execution_count": 8,
   "id": "241ae090",
   "metadata": {},
   "outputs": [
    {
     "name": "stdout",
     "output_type": "stream",
     "text": [
      "[[ 1  3  2]\n",
      " [ 0  1  2]\n",
      " [ 0  0 -6]]\n"
     ]
    }
   ],
   "source": [
    "A[2]=A[2]+(-5)*A[1]\n",
    "print(A)"
   ]
  },
  {
   "cell_type": "code",
   "execution_count": null,
   "id": "be8ac657",
   "metadata": {},
   "outputs": [],
   "source": []
  }
 ],
 "metadata": {
  "kernelspec": {
   "display_name": "Python 3 (ipykernel)",
   "language": "python",
   "name": "python3"
  },
  "language_info": {
   "codemirror_mode": {
    "name": "ipython",
    "version": 3
   },
   "file_extension": ".py",
   "mimetype": "text/x-python",
   "name": "python",
   "nbconvert_exporter": "python",
   "pygments_lexer": "ipython3",
   "version": "3.10.11"
  }
 },
 "nbformat": 4,
 "nbformat_minor": 5
}
